{
 "cells": [
  {
   "cell_type": "markdown",
   "metadata": {},
   "source": [
    "# Introduction into the pyaerocom web tools\n",
    "\n",
    "This notebook gives an introduction on how to setup and run the AeroCom evaluation tools that are used to create the json files used in the several [AeroVal](https://aerocom-evaluation.met.no/) evaluation interfaces.\n",
    "\n",
    "## Note\n",
    "\n",
    "It is recommended to checkout [setup_and_intro.ipynb](setup_and_intro.ipynb) and make sure all is in place to use pyaerocom with access to PPI."
   ]
  },
  {
   "cell_type": "markdown",
   "metadata": {},
   "source": [
    "## Setting up the configuration for the analysis"
   ]
  },
  {
   "cell_type": "code",
   "execution_count": 1,
   "metadata": {},
   "outputs": [],
   "source": [
    "import os\n",
    "from warnings import filterwarnings\n",
    "filterwarnings('ignore')"
   ]
  },
  {
   "cell_type": "code",
   "execution_count": 2,
   "metadata": {},
   "outputs": [
    {
     "data": {
      "text/plain": [
       "'0.10.0'"
      ]
     },
     "execution_count": 2,
     "metadata": {},
     "output_type": "execute_result"
    }
   ],
   "source": [
    "import pyaerocom as pya\n",
    "pya.__version__"
   ]
  },
  {
   "cell_type": "markdown",
   "metadata": {},
   "source": [
    "In the following, a whole configuration setup is specified, see comments for details."
   ]
  },
  {
   "cell_type": "code",
   "execution_count": 3,
   "metadata": {},
   "outputs": [],
   "source": [
    "# Output directory (where json files are stored): NOTE: this should point to the *data/json* Gitlab repo that you should have cloned\n",
    "OUT_BASEDIR = os.path.abspath('../../data/json/')\n",
    "\n",
    "# ID of project (please use this ID, as this is linked with the URL later on and will make sure to write into the correct GitLab repo, under data/json/{PROJ_ID})\n",
    "# IMPORTANT NOTE: for the workshop, please all use this project ID\n",
    "PROJ_ID = 'workshop2021'\n",
    "\n",
    "# ID of experiment (will be name of subdirectory under data/json/{PROJ_ID}/{EXP_ID}) and used for experiment navigation in the web interface.\n",
    "# IMPORTANT NOTE: PLEASE CHANGE THIS FOR YOUR OWN EXPERIMENT (e.g. Group1, Group2, ...)\n",
    "EXP_ID = 'example1'\n",
    "\n",
    "# Directory where colocated NetCDF files are stored (this is not relevant for the website, so it can be set flexibly)\n",
    "COLDATA_BASEDIR = os.path.abspath('./coldata')"
   ]
  },
  {
   "cell_type": "markdown",
   "metadata": {},
   "source": [
    "### Make sure `OUT_BASEDIR` is set correctly relative to *web* repo"
   ]
  },
  {
   "cell_type": "code",
   "execution_count": 4,
   "metadata": {},
   "outputs": [],
   "source": [
    "from pathlib import Path\n",
    "path = Path(OUT_BASEDIR)\n",
    "assert path.exists()\n",
    "assert path.name == 'json'\n",
    "assert path.parent.name == 'data'\n",
    "assert 'web' in os.listdir(path.parent.parent)"
   ]
  },
  {
   "cell_type": "markdown",
   "metadata": {},
   "source": [
    "### Create analysis setup class "
   ]
  },
  {
   "cell_type": "code",
   "execution_count": 5,
   "metadata": {},
   "outputs": [
    {
     "name": "stdout",
     "output_type": "stream",
     "text": [
      "\n",
      "Pyaerocom AerocomEvaluation\n",
      "---------------------------\n",
      "Project ID: workshop2021\n",
      "Eperiment ID: example1\n",
      "Experiment name: Tutorial experiment for pyaerocom workshop\n",
      "colocation_settings: (will be updated for each run from model_config and obs_config entry)\n",
      "  save_coldata: True\n",
      "  _obs_cache_only: False\n",
      "  obs_vars: None\n",
      "  obs_vert_type: None\n",
      "  model_vert_type_alt: None\n",
      "  read_opts_ungridded: None\n",
      "  obs_ts_type_read: None\n",
      "  model_use_vars: None\n",
      "  model_add_vars: None\n",
      "  model_keep_outliers: True\n",
      "  model_to_stp: False\n",
      "  model_id: None\n",
      "  model_name: None\n",
      "  model_data_dir: None\n",
      "  obs_id: None\n",
      "  obs_name: None\n",
      "  obs_data_dir: None\n",
      "  obs_keep_outliers: False\n",
      "  obs_use_climatology: False\n",
      "  obs_add_meta: []\n",
      "  gridded_reader_id: {'model': 'ReadGridded', 'obs': 'ReadGridded'}\n",
      "  start: None\n",
      "  stop: None\n",
      "  ts_type: None\n",
      "  filter_name: None\n",
      "  remove_outliers: True\n",
      "  apply_time_resampling_constraints: None\n",
      "  min_num_obs: None\n",
      "  resample_how: None\n",
      "  var_outlier_ranges: None\n",
      "  var_ref_outlier_ranges: None\n",
      "  harmonise_units: False\n",
      "  vert_scheme: None\n",
      "  regrid_res_deg: None\n",
      "  ignore_station_names: None\n",
      "  basedir_coldata: /home/jonasg/MyPyaerocom/ws21/pyaerocom-meetings/Feb2021_Workshop/coldata\n",
      "  model_ts_type_read: None\n",
      "  model_read_aux: None\n",
      "  model_use_climatology: False\n",
      "  colocate_time: False\n",
      "  flex_ts_type_gridded: True\n",
      "  reanalyse_existing: False\n",
      "  raise_exceptions: False\n",
      "\n",
      "obs_config:\n",
      "\n",
      "model_config:\n"
     ]
    }
   ],
   "source": [
    "stp = pya.web.AerocomEvaluation(proj_id=PROJ_ID, exp_id=EXP_ID, \n",
    "                                exp_name='Tutorial experiment for pyaerocom workshop',\n",
    "                                out_basedir=OUT_BASEDIR,\n",
    "                                basedir_coldata=COLDATA_BASEDIR)\n",
    "print(stp)"
   ]
  },
  {
   "cell_type": "markdown",
   "metadata": {},
   "source": [
    "The most important things to define for the analysis are:\n",
    "\n",
    "- obs_config: dictionary of dictionaries containing observations to be used\n",
    "- model_config: dictionary of dictionaries containing models to be used\n",
    "- colocation_settings: (see above) most of these can be left untouched and below we show the essential information"
   ]
  },
  {
   "cell_type": "markdown",
   "metadata": {},
   "source": [
    "### Observation setup\n",
    "\n",
    "The `obs_config` entry defines observations to be used, below we define 1 set of observations, Aeronet (AOD and Angstrom Exponent) and EBAS (scattering and absorption coefficients). In the end, these setups are assigned to the evaluation class that we just created."
   ]
  },
  {
   "cell_type": "code",
   "execution_count": 6,
   "metadata": {},
   "outputs": [],
   "source": [
    "obs_cfg = {\n",
    "    # key is name as it appears in web interface, value contains setup \n",
    "    'Aeronet' : {\n",
    "        'obs_id'        : 'AeronetSunV3Lev2.daily', # ID of obsnetwork\n",
    "        'obs_vars'      : ['ang4487aer', 'od550aer'], # list of variables (Angstrom Exponent, 440-870nm, and AOD at 550 nm)\n",
    "        'obs_vert_type' : 'Column', # this is needed, choose from Column or Surface\n",
    "        'obs_filters'   : {'altitude' : [0, 1000]},\n",
    "        'ignore_station_names' : 'DRAGON*'\n",
    "    }\n",
    "}\n",
    "\n",
    "stp['obs_config'] = obs_cfg"
   ]
  },
  {
   "cell_type": "markdown",
   "metadata": {},
   "source": [
    "### Defining models to be used for evaluation"
   ]
  },
  {
   "cell_type": "code",
   "execution_count": 7,
   "metadata": {},
   "outputs": [],
   "source": [
    "model_cfg = {\n",
    "    'Aerocom-Median' : {'model_id' : 'AEROCOM-MEDIAN-2x3-GLISSETAL2020-1_AP3-CTRL'},\n",
    "    'EC-Earth'    : {'model_id' : 'EC-Earth3-AerChem-met2010_AP3-CTRL2019'}\n",
    "}\n",
    "\n",
    "stp['model_config'] = model_cfg"
   ]
  },
  {
   "cell_type": "markdown",
   "metadata": {},
   "source": [
    "## Colocation setup\n",
    "\n",
    "In the following we define essential settings for colocation of model / obs / var. Note: these can be overwritten in each individual model or obs config entry where needed."
   ]
  },
  {
   "cell_type": "code",
   "execution_count": 8,
   "metadata": {},
   "outputs": [],
   "source": [
    "DEFAULT_COLOCATION_SETTINGS = dict(\n",
    "    start = 2010, \n",
    "    stop = 2011,\n",
    "    ts_type = 'daily', # desired output frequency of colocated data objects\n",
    "    colocate_time = False, # if True and if input \"ts_type\" is lower resolution than highest available in model and obs, then model and obs are first colocated in higher res. before resampling to \"ts_type\"\n",
    "    weighted_stats = True, # only relevant if models are evaluated against gridded satellite data\n",
    "    apply_time_resampling_constraints = True,\n",
    "    min_num_obs = pya.const.OBS_MIN_NUM_RESAMPLE,\n",
    "    reanalyse_existing = True, # relevant for re-runs. If True, pre-existing colocated data files are re-used for computation of json files \n",
    "    remove_outliers=True, # remove outliers during colocation\n",
    "    harmonise_units=True, # harmonise units before colocation (e.g. if obs is in ug m-3 and model is in kg m-3). Will crash if unit conversion cannot be done (e.g. obs in ug m-3 and model in nmole mole-1).\n",
    "    model_keep_outliers=True, # if True, and remove_outliers is True, then only obs outliers are removed  (default behaviour)\n",
    ")\n",
    "\n",
    "stp.update(**DEFAULT_COLOCATION_SETTINGS)"
   ]
  },
  {
   "cell_type": "code",
   "execution_count": 9,
   "metadata": {},
   "outputs": [
    {
     "name": "stdout",
     "output_type": "stream",
     "text": [
      "\n",
      "Pyaerocom AerocomEvaluation\n",
      "---------------------------\n",
      "Project ID: workshop2021\n",
      "Eperiment ID: example1\n",
      "Experiment name: Tutorial experiment for pyaerocom workshop\n",
      "colocation_settings: (will be updated for each run from model_config and obs_config entry)\n",
      "  save_coldata: True\n",
      "  _obs_cache_only: False\n",
      "  obs_vars: None\n",
      "  obs_vert_type: None\n",
      "  model_vert_type_alt: None\n",
      "  read_opts_ungridded: None\n",
      "  obs_ts_type_read: None\n",
      "  model_use_vars: None\n",
      "  model_add_vars: None\n",
      "  model_keep_outliers: True\n",
      "  model_to_stp: False\n",
      "  model_id: None\n",
      "  model_name: None\n",
      "  model_data_dir: None\n",
      "  obs_id: None\n",
      "  obs_name: None\n",
      "  obs_data_dir: None\n",
      "  obs_keep_outliers: False\n",
      "  obs_use_climatology: False\n",
      "  obs_add_meta: []\n",
      "  gridded_reader_id: {'model': 'ReadGridded', 'obs': 'ReadGridded'}\n",
      "  start: 2010\n",
      "  stop: 2011\n",
      "  ts_type: daily\n",
      "  filter_name: None\n",
      "  remove_outliers: True\n",
      "  apply_time_resampling_constraints: True\n",
      "  min_num_obs: {'yearly': {'monthly': 3}, 'monthly': {'daily': 7}, 'daily': {'hourly': 6}, 'hourly': {'minutely': 15}}\n",
      "  resample_how: None\n",
      "  var_outlier_ranges: None\n",
      "  var_ref_outlier_ranges: None\n",
      "  harmonise_units: True\n",
      "  vert_scheme: None\n",
      "  regrid_res_deg: None\n",
      "  ignore_station_names: None\n",
      "  basedir_coldata: /home/jonasg/MyPyaerocom/ws21/pyaerocom-meetings/Feb2021_Workshop/coldata\n",
      "  model_ts_type_read: None\n",
      "  model_read_aux: None\n",
      "  model_use_climatology: False\n",
      "  colocate_time: False\n",
      "  flex_ts_type_gridded: True\n",
      "  reanalyse_existing: True\n",
      "  raise_exceptions: False\n",
      "\n",
      "obs_config:\n",
      "\n",
      "  Aeronet:\n",
      "    obs_id: AeronetSunV3Lev2.daily\n",
      "    obs_type: None\n",
      "    obs_vars (list, 2 items): ['ang4487aer', 'od550aer']\n",
      "    obs_ts_type_read: None\n",
      "    obs_vert_type: Column\n",
      "    obs_aux_requires (dict):\n",
      "    obs_aux_funs (dict):\n",
      "    obs_aux_units (dict):\n",
      "    read_opts_ungridded: None\n",
      "    obs_filters (dict):\n",
      "      altitude (list, 2 items): [0, 1000]\n",
      "    ignore_station_names: DRAGON*\n",
      "\n",
      "model_config:\n",
      "\n",
      "  Aerocom-Median:\n",
      "    model_id: AEROCOM-MEDIAN-2x3-GLISSETAL2020-1_AP3-CTRL\n",
      "    model_ts_type_read: None\n",
      "    model_use_vars (dict):\n",
      "    model_read_aux (dict):\n",
      "\n",
      "  EC-Earth:\n",
      "    model_id: EC-Earth3-AerChem-met2010_AP3-CTRL2019\n",
      "    model_ts_type_read: None\n",
      "    model_use_vars (dict):\n",
      "    model_read_aux (dict):\n"
     ]
    }
   ],
   "source": [
    "print(stp)"
   ]
  },
  {
   "cell_type": "code",
   "execution_count": 10,
   "metadata": {},
   "outputs": [],
   "source": [
    "stp.var_mapping = pya.web.web_naming_conventions.VAR_MAPPING"
   ]
  },
  {
   "cell_type": "markdown",
   "metadata": {},
   "source": [
    "## Running the evaluation\n",
    "\n",
    "The following command will run the evaluation, i.e. it will, in a nested loop, \n",
    "\n",
    "- go through all observation network entries in `stp.obs_config` \n",
    "- go through all models in `stp.model_config`\n",
    "- colocate each obs / var / model entry and saves the corresponding `ColocatedData` object(s) as NetCDF under `COLDATA_BASEDIR`\n",
    "- based on the colocated NetCDF files, compute all json files relevant for the web interface\n",
    "- and stores these json files in a dedicated subdirectory under `OUT_BASEDIR`"
   ]
  },
  {
   "cell_type": "code",
   "execution_count": 11,
   "metadata": {},
   "outputs": [
    {
     "name": "stderr",
     "output_type": "stream",
     "text": [
      "\n",
      "Running analysis:\n",
      "Obs. names: ['Aeronet']\n",
      "Model names: ['Aerocom-Median', 'EC-Earth']\n",
      "Remove outliers: True\n",
      "Harmonise units: True\n",
      "Delete existing json files before reanalysis: True\n",
      "Reanalyse existing colocated NetCDF files: True\n",
      "Run only colocation (no json files computed): False\n",
      "Raise exceptions if they occur: False\n",
      "\n",
      "Running colocation of Aerocom-Median against Aeronet\n",
      "PREPARING colocation of AEROCOM-MEDIAN-2x3-GLISSETAL2020-1_AP3-CTRL vs. AeronetSunV3Lev2.daily\n",
      "The following variable combinations will be colocated\n",
      "MODEL-VAR\tOBS-VAR\n",
      "ang4487aer\tang4487aer\n",
      "od550aer\tod550aer\n",
      "Running AEROCOM-MEDIAN-2x3-GLISSETAL2020-1_AP3-CTRL / AeronetSunV3Lev2.daily (ang4487aer, ang4487aer)\n",
      "Updating ts_type from daily to monthly (highest available in model AEROCOM-MEDIAN-2x3-GLISSETAL2020-1_AP3-CTRL)\n",
      "Input filters {'altitude': [-1000000.0, 1000.0]} result in unchanged data object\n",
      "Input filters {'latitude': [-89.0, 89.0], 'longitude': [-178.5, 178.5]} result in unchanged data object\n",
      "WRITE: ang4487aer_REF-Aeronet_MOD-Aerocom-Median_20100101_20101231_monthly_None.nc\n",
      "\n",
      "Running AEROCOM-MEDIAN-2x3-GLISSETAL2020-1_AP3-CTRL / AeronetSunV3Lev2.daily (od550aer, od550aer)\n",
      "Updating ts_type from daily to monthly (highest available in model AEROCOM-MEDIAN-2x3-GLISSETAL2020-1_AP3-CTRL)\n",
      "Input filters {'altitude': [-1000000.0, 1000.0]} result in unchanged data object\n",
      "Input filters {'latitude': [-89.0, 89.0], 'longitude': [-178.5, 178.5]} result in unchanged data object\n",
      "WRITE: od550aer_REF-Aeronet_MOD-Aerocom-Median_20100101_20101231_monthly_None.nc\n",
      "\n",
      "Processing file /home/jonasg/MyPyaerocom/ws21/pyaerocom-meetings/Feb2021_Workshop/coldata/AEROCOM-MEDIAN-2x3-GLISSETAL2020-1_AP3-CTRL/od550aer_REF-Aeronet_MOD-Aerocom-Median_20100101_20101231_monthly_None.nc\n",
      "Computing json files for Aerocom-Median vs. Aeronet\n",
      "Filtering of lat_range=[-180, 180] and lon_range=[-90, 90] results in unchanged object, returning self\n",
      "Overwriting existing heatmap statistics for model Aerocom-Median/od550aer (od550aer, Aeronet, Column) in glob_stats.json\n",
      "Overwriting existing heatmap statistics for model Aerocom-Median/od550aer (od550aer, Aeronet, Column) in glob_stats.json\n",
      "Filtering of lat_range=[-180, 180] and lon_range=[-90, 90] results in unchanged object, returning self\n",
      "Filtering of lat_range=[-180, 180] and lon_range=[-90, 90] results in unchanged object, returning self\n",
      "Processing file /home/jonasg/MyPyaerocom/ws21/pyaerocom-meetings/Feb2021_Workshop/coldata/AEROCOM-MEDIAN-2x3-GLISSETAL2020-1_AP3-CTRL/ang4487aer_REF-Aeronet_MOD-Aerocom-Median_20100101_20101231_monthly_None.nc\n",
      "Computing json files for Aerocom-Median vs. Aeronet\n",
      "Filtering of lat_range=[-180, 180] and lon_range=[-90, 90] results in unchanged object, returning self\n",
      "Overwriting existing heatmap statistics for model Aerocom-Median/ang4487aer (ang4487aer, Aeronet, Column) in glob_stats.json\n",
      "Overwriting existing heatmap statistics for model Aerocom-Median/ang4487aer (ang4487aer, Aeronet, Column) in glob_stats.json\n",
      "Filtering of lat_range=[-180, 180] and lon_range=[-90, 90] results in unchanged object, returning self\n",
      "Filtering of lat_range=[-180, 180] and lon_range=[-90, 90] results in unchanged object, returning self\n",
      "Running colocation of EC-Earth against Aeronet\n",
      "PREPARING colocation of EC-Earth3-AerChem-met2010_AP3-CTRL2019 vs. AeronetSunV3Lev2.daily\n",
      "The following variable combinations will be colocated\n",
      "MODEL-VAR\tOBS-VAR\n",
      "ang4487aer\tang4487aer\n",
      "od550aer\tod550aer\n",
      "Running EC-Earth3-AerChem-met2010_AP3-CTRL2019 / AeronetSunV3Lev2.daily (ang4487aer, ang4487aer)\n",
      "Updating ts_type from daily to monthly (highest available in model EC-Earth3-AerChem-met2010_AP3-CTRL2019)\n",
      "Input filters {'altitude': [-1000000.0, 1000.0]} result in unchanged data object\n",
      "Input filters {'latitude': [-89.0, 89.0], 'longitude': [-181.5, 175.5]} result in unchanged data object\n",
      "WRITE: ang4487aer_REF-Aeronet_MOD-EC-Earth_20100101_20101231_monthly_None.nc\n",
      "\n",
      "Running EC-Earth3-AerChem-met2010_AP3-CTRL2019 / AeronetSunV3Lev2.daily (od550aer, od550aer)\n",
      "Updating ts_type from daily to monthly (highest available in model EC-Earth3-AerChem-met2010_AP3-CTRL2019)\n",
      "Input filters {'altitude': [-1000000.0, 1000.0]} result in unchanged data object\n",
      "Input filters {'latitude': [-89.0, 89.0], 'longitude': [-181.5, 175.5]} result in unchanged data object\n",
      "WRITE: od550aer_REF-Aeronet_MOD-EC-Earth_20100101_20101231_monthly_None.nc\n",
      "\n",
      "Processing file /home/jonasg/MyPyaerocom/ws21/pyaerocom-meetings/Feb2021_Workshop/coldata/EC-Earth3-AerChem-met2010_AP3-CTRL2019/ang4487aer_REF-Aeronet_MOD-EC-Earth_20100101_20101231_monthly_None.nc\n",
      "Computing json files for EC-Earth vs. Aeronet\n",
      "Filtering of lat_range=[-180, 180] and lon_range=[-90, 90] results in unchanged object, returning self\n",
      "Overwriting existing heatmap statistics for model EC-Earth/ang4487aer (ang4487aer, Aeronet, Column) in glob_stats.json\n",
      "Overwriting existing heatmap statistics for model EC-Earth/ang4487aer (ang4487aer, Aeronet, Column) in glob_stats.json\n",
      "Filtering of lat_range=[-180, 180] and lon_range=[-90, 90] results in unchanged object, returning self\n",
      "Filtering of lat_range=[-180, 180] and lon_range=[-90, 90] results in unchanged object, returning self\n",
      "Processing file /home/jonasg/MyPyaerocom/ws21/pyaerocom-meetings/Feb2021_Workshop/coldata/EC-Earth3-AerChem-met2010_AP3-CTRL2019/od550aer_REF-Aeronet_MOD-EC-Earth_20100101_20101231_monthly_None.nc\n",
      "Computing json files for EC-Earth vs. Aeronet\n",
      "Filtering of lat_range=[-180, 180] and lon_range=[-90, 90] results in unchanged object, returning self\n",
      "Overwriting existing heatmap statistics for model EC-Earth/od550aer (od550aer, Aeronet, Column) in glob_stats.json\n",
      "Overwriting existing heatmap statistics for model EC-Earth/od550aer (od550aer, Aeronet, Column) in glob_stats.json\n",
      "Filtering of lat_range=[-180, 180] and lon_range=[-90, 90] results in unchanged object, returning self\n",
      "Filtering of lat_range=[-180, 180] and lon_range=[-90, 90] results in unchanged object, returning self\n",
      "Adding new observation variable: ang4487aer\n",
      "Adding new observation variable: od550aer\n",
      "Sub menu for experiment example1 already exists in menu.json and will be overwritten\n"
     ]
    },
    {
     "data": {
      "text/plain": [
       "['/home/jonasg/MyPyaerocom/ws21/pyaerocom-meetings/Feb2021_Workshop/coldata/EC-Earth3-AerChem-met2010_AP3-CTRL2019/ang4487aer_REF-Aeronet_MOD-EC-Earth_20100101_20101231_monthly_None.nc',\n",
       " '/home/jonasg/MyPyaerocom/ws21/pyaerocom-meetings/Feb2021_Workshop/coldata/EC-Earth3-AerChem-met2010_AP3-CTRL2019/od550aer_REF-Aeronet_MOD-EC-Earth_20100101_20101231_monthly_None.nc']"
      ]
     },
     "execution_count": 11,
     "metadata": {},
     "output_type": "execute_result"
    }
   ],
   "source": [
    "stp.run_evaluation()"
   ]
  },
  {
   "cell_type": "markdown",
   "metadata": {},
   "source": [
    "This should create a bunch of colocated NetCDF files in the colocated data directory: "
   ]
  },
  {
   "cell_type": "code",
   "execution_count": 12,
   "metadata": {},
   "outputs": [
    {
     "data": {
      "text/plain": [
       "'/home/jonasg/MyPyaerocom/ws21/pyaerocom-meetings/Feb2021_Workshop/coldata'"
      ]
     },
     "execution_count": 12,
     "metadata": {},
     "output_type": "execute_result"
    }
   ],
   "source": [
    "COLDATA_BASEDIR"
   ]
  },
  {
   "cell_type": "markdown",
   "metadata": {},
   "source": [
    "And based on those it computes all required json files, which are stored in:"
   ]
  },
  {
   "cell_type": "code",
   "execution_count": 13,
   "metadata": {},
   "outputs": [
    {
     "data": {
      "text/plain": [
       "'/home/jonasg/MyPyaerocom/ws21/data/json/workshop2021/example1'"
      ]
     },
     "execution_count": 13,
     "metadata": {},
     "output_type": "execute_result"
    }
   ],
   "source": [
    "f'{OUT_BASEDIR}/{PROJ_ID}/{EXP_ID}'"
   ]
  },
  {
   "cell_type": "markdown",
   "metadata": {},
   "source": [
    "## Launching the local version of the web interface"
   ]
  },
  {
   "cell_type": "markdown",
   "metadata": {},
   "source": [
    "If you have cloned all required repos correctly, then the folder containing the [data](https://gitlab.met.no/aerocom-evaluation/data) Gitlab repo (here: ws21) should also contain the [web](https://gitlab.met.no/aerocom-evaluation/web) Gitlab repo. And you should have php installed locally.\n",
    "\n",
    "If this is the case (and the analysis is finished), you should be able to checkout your results in a local version of the web interface.\n",
    "\n",
    "**From within the web repo, call:**\n",
    "```bash\n",
    "php -S localhost:8000\n",
    "```\n",
    "\n",
    "Then open the link, click on one of the projects (e.g. AeroCom) and in the URL replace \"project=aerocom\" with \"project=workshop2021\". Then you should see your experiment in the experiment menu. This should be the URL:\n",
    "\n",
    "http://localhost:8000/main.php?project=workshop2021"
   ]
  }
 ],
 "metadata": {
  "kernelspec": {
   "display_name": "Python 3",
   "language": "python",
   "name": "python3"
  },
  "language_info": {
   "codemirror_mode": {
    "name": "ipython",
    "version": 3
   },
   "file_extension": ".py",
   "mimetype": "text/x-python",
   "name": "python",
   "nbconvert_exporter": "python",
   "pygments_lexer": "ipython3",
   "version": "3.8.6"
  }
 },
 "nbformat": 4,
 "nbformat_minor": 4
}
