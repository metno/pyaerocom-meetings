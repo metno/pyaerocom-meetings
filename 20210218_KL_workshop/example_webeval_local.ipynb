{
 "cells": [
  {
   "cell_type": "markdown",
   "metadata": {},
   "source": [
    "# Introduction into the pyaerocom web tools using local obs and model data\n",
    "\n",
    "This notebook gives an introduction on how to setup and run the AeroCom evaluation tools that are used to create the json files used in the several [AeroVal](https://aerocom-evaluation.met.no/) evaluation interfaces.\n",
    "\n",
    "## Note\n",
    "\n",
    "This notebook uses a local copy of obsdata, see [here]() for instructions how to get those data on your computer.\n",
    "\n",
    "It is recommended to checkout [setup_and_intro.ipynb](setup_and_intro.ipynb) and [example_webeval](example_webeval.ipynb) and make sure all is in place to use pyaerocom with access to PPI."
   ]
  },
  {
   "cell_type": "markdown",
   "metadata": {},
   "source": [
    "## Setting up the configuration for the analysis"
   ]
  },
  {
   "cell_type": "code",
   "execution_count": 1,
   "metadata": {},
   "outputs": [],
   "source": [
    "import os\n",
    "from warnings import filterwarnings\n",
    "filterwarnings('ignore')"
   ]
  },
  {
   "cell_type": "code",
   "execution_count": 2,
   "metadata": {},
   "outputs": [
    {
     "data": {
      "text/plain": [
       "'0.10.0'"
      ]
     },
     "execution_count": 2,
     "metadata": {},
     "output_type": "execute_result"
    }
   ],
   "source": [
    "import pyaerocom as pya\n",
    "pya.__version__"
   ]
  },
  {
   "cell_type": "markdown",
   "metadata": {},
   "source": [
    "In the following, a whole configuration setup is specified, see comments for details."
   ]
  },
  {
   "cell_type": "code",
   "execution_count": 3,
   "metadata": {},
   "outputs": [],
   "source": [
    "# Output directory (where json files are stored): NOTE: this should point to the *data* Gitlab repo that you should have cloned\n",
    "OUT_BASEDIR = os.path.abspath('../../data/json/')\n",
    "\n",
    "# ID of project (please use this ID, as this is linked with the URL later on and will make sure to write into the correct GitLab repo, under data/json/{PROJ_ID})\n",
    "# IMPORTANT NOTE: for the workshop, please all use this project ID\n",
    "PROJ_ID = 'workshop2021'\n",
    "\n",
    "# ID of experiment (will be name of subdirectory under data/json/{PROJ_ID}/{EXP_ID}) and used for experiment navigation in the web interface.\n",
    "# IMPORTANT NOTE: PLEASE CHANGE THIS FOR YOUR OWN EXPERIMENT (e.g. Group1, Group2, ...)\n",
    "EXP_ID = 'example2'\n",
    "\n",
    "# Directory where colocated NetCDF files are stored (this is not relevant for the website, so it can be set flexibly)\n",
    "COLDATA_BASEDIR = os.path.abspath('./coldata')"
   ]
  },
  {
   "cell_type": "markdown",
   "metadata": {},
   "source": [
    "### Make sure `OUT_BASEDIR` is set correctly relative to *web* repo"
   ]
  },
  {
   "cell_type": "code",
   "execution_count": 4,
   "metadata": {},
   "outputs": [],
   "source": [
    "from pathlib import Path\n",
    "path = Path(OUT_BASEDIR)\n",
    "assert path.exists()\n",
    "assert path.name == 'json'\n",
    "assert path.parent.name == 'data'\n",
    "assert 'web' in os.listdir(path.parent.parent)"
   ]
  },
  {
   "cell_type": "markdown",
   "metadata": {},
   "source": [
    "### Create analysis setup class "
   ]
  },
  {
   "cell_type": "code",
   "execution_count": 5,
   "metadata": {},
   "outputs": [],
   "source": [
    "stp = pya.web.AerocomEvaluation(proj_id=PROJ_ID, exp_id=EXP_ID, \n",
    "                                exp_name='Tutorial experiment 2 for pyaerocom workshop',\n",
    "                                out_basedir=OUT_BASEDIR,\n",
    "                                basedir_coldata=COLDATA_BASEDIR)"
   ]
  },
  {
   "cell_type": "markdown",
   "metadata": {},
   "source": [
    "### Observation setup"
   ]
  },
  {
   "cell_type": "markdown",
   "metadata": {},
   "source": [
    "#### Set and check access to local obsdata \n",
    "\n",
    "Specify directory where the unpacked [tarball](https://github.com/metno/pyaerocom-meetings/tree/master/Feb2021_Workshop#speedup---create-a-local-copy-of-relevant-obsdata) lies locally:"
   ]
  },
  {
   "cell_type": "code",
   "execution_count": 6,
   "metadata": {},
   "outputs": [],
   "source": [
    "# PLEASE MODIFY\n",
    "OBS_BASEDIR = '/home/jonasg/MyPyaerocom/ws21/obslocal'\n",
    "\n",
    "GHOST_EEA_DAILY_LOCAL = os.path.join(OBS_BASEDIR, 'GHOST/data/EEA_AQ_eReporting/daily')\n",
    "GHOST_EBAS_DAILY_LOCAL =  os.path.join(OBS_BASEDIR, 'GHOST/data/EBAS/daily')\n",
    "\n",
    "# make sure the directories exist\n",
    "assert os.path.exists(GHOST_EEA_DAILY_LOCAL)\n",
    "assert os.path.exists(GHOST_EBAS_DAILY_LOCAL)"
   ]
  },
  {
   "cell_type": "markdown",
   "metadata": {},
   "source": [
    "#### Define `obs_config` in `AerocomEvaluation` class with local copy of GHOST dataset"
   ]
  },
  {
   "cell_type": "code",
   "execution_count": 7,
   "metadata": {},
   "outputs": [],
   "source": [
    "obs_cfg = {\n",
    "    # key is name as it appears in web interface, value contains setup \n",
    "    'G-EBAS-d-rural'     : {\n",
    "        'obs_id'        :'GHOST.EBAS.daily',\n",
    "        'obs_data_dir'  : GHOST_EBAS_DAILY_LOCAL,\n",
    "        'obs_vars'      : ['concpm10', 'concpm25'], # list of variables (Angstrom Exponent, 440-870nm, and AOD at 550 nm)\n",
    "        'obs_vert_type' : 'Surface', # this is needed, choose from Column or Surface\n",
    "        'obs_filters'   : {'altitude' : [0, 1000], \n",
    "                           'set_flags_nan' : True, # Invalidate flagged data\n",
    "                           'station_classification'  :   ['background'],\n",
    "                           'area_classification'     :   ['rural','rural-near_city',\n",
    "                                                          'rural-regional', 'rural-remote']\n",
    "                          }\n",
    "    },\n",
    "    'G-EEA-d-rural'     : {\n",
    "        'obs_id'        :'GHOST.EEA.daily',\n",
    "        'obs_data_dir'  : GHOST_EEA_DAILY_LOCAL,\n",
    "        'obs_vars'      : ['concpm10', 'concpm25'], # list of variables (Angstrom Exponent, 440-870nm, and AOD at 550 nm)\n",
    "        'obs_vert_type' : 'Surface', # this is needed, choose from Column or Surface\n",
    "        'obs_filters'   : {'altitude' : [0, 1000], \n",
    "                           'set_flags_nan' : True, # Invalidate flagged data\n",
    "                           'station_classification'  :   ['background'],\n",
    "                           'area_classification'     :   ['rural','rural-near_city',\n",
    "                                                          'rural-regional', 'rural-remote']\n",
    "                          }\n",
    "    }\n",
    "}\n",
    "\n",
    "stp['obs_config'] = obs_cfg"
   ]
  },
  {
   "cell_type": "markdown",
   "metadata": {},
   "source": [
    "### Defining models to be used for evaluation\n",
    "\n",
    "Uses local copy of modeldata located here:"
   ]
  },
  {
   "cell_type": "code",
   "execution_count": 8,
   "metadata": {},
   "outputs": [],
   "source": [
    "model_cfg = {\n",
    "    'IFS-CTRL'     : {\n",
    "        'model_id' : 'ECMWF_CNTRL',\n",
    "        #'model_data_dir' : '<path to modeldata if you have it locally>'\n",
    "    },\n",
    "    'IFS-OSUITE'     : {\n",
    "        'model_id' : 'ECMWF_OSUITE',\n",
    "        #'model_data_dir' : '<path to modeldata if you have it locally>'\n",
    "    }\n",
    "}\n",
    "\n",
    "stp['model_config'] = model_cfg"
   ]
  },
  {
   "cell_type": "markdown",
   "metadata": {},
   "source": [
    "## Colocation setup\n",
    "\n",
    "In the following we define essential settings for colocation of model / obs / var. Note: these can be overwritten in each individual model or obs config entry where needed."
   ]
  },
  {
   "cell_type": "code",
   "execution_count": 9,
   "metadata": {},
   "outputs": [],
   "source": [
    "DEFAULT_COLOCATION_SETTINGS = dict(\n",
    "    start = 2019, \n",
    "    stop = None,\n",
    "    ts_type = 'daily', # desired output frequency of colocated data objects\n",
    "    colocate_time = False, # if True and if input \"ts_type\" is lower resolution than highest available in model and obs, then model and obs are first colocated in higher res. before resampling to \"ts_type\"\n",
    "    weighted_stats = True, # only relevant if models are evaluated against gridded satellite data (no example provided)\n",
    "    apply_time_resampling_constraints = True,\n",
    "    # set conservative min_num_obs requirement (ca 75% coverage at daily and weekly levels)\n",
    "    min_num_obs = {'monthly' : {'daily': 22} # at least 22 days per month\n",
    "    }, # resampling\n",
    "    reanalyse_existing = False, # relevant for re-runs. If True, pre-existing colocated data files are re-used for computation of json files \n",
    "    remove_outliers=True, # remove outliers during colocation\n",
    "    harmonise_units=True, # harmonise units before colocation (e.g. if obs is in ug m-3 and model is in kg m-3). Will crash if unit conversion cannot be done (e.g. obs in ug m-3 and model in nmole mole-1).\n",
    "    model_keep_outliers=True, # if True, and remove_outliers is True, then only obs outliers are removed  (default behaviour)\n",
    ")\n",
    "\n",
    "stp.update(**DEFAULT_COLOCATION_SETTINGS)"
   ]
  },
  {
   "cell_type": "code",
   "execution_count": 10,
   "metadata": {},
   "outputs": [
    {
     "name": "stdout",
     "output_type": "stream",
     "text": [
      "\n",
      "Pyaerocom AerocomEvaluation\n",
      "---------------------------\n",
      "Project ID: workshop2021\n",
      "Eperiment ID: example2\n",
      "Experiment name: Tutorial experiment 2 for pyaerocom workshop\n",
      "colocation_settings: (will be updated for each run from model_config and obs_config entry)\n",
      "  save_coldata: True\n",
      "  _obs_cache_only: False\n",
      "  obs_vars: None\n",
      "  obs_vert_type: None\n",
      "  model_vert_type_alt: None\n",
      "  read_opts_ungridded: None\n",
      "  obs_ts_type_read: None\n",
      "  model_use_vars: None\n",
      "  model_add_vars: None\n",
      "  model_keep_outliers: True\n",
      "  model_to_stp: False\n",
      "  model_id: None\n",
      "  model_name: None\n",
      "  model_data_dir: None\n",
      "  obs_id: None\n",
      "  obs_name: None\n",
      "  obs_data_dir: None\n",
      "  obs_keep_outliers: False\n",
      "  obs_use_climatology: False\n",
      "  obs_add_meta: []\n",
      "  gridded_reader_id: {'model': 'ReadGridded', 'obs': 'ReadGridded'}\n",
      "  start: 2019\n",
      "  stop: None\n",
      "  ts_type: daily\n",
      "  filter_name: None\n",
      "  remove_outliers: True\n",
      "  apply_time_resampling_constraints: True\n",
      "  min_num_obs: {'monthly': {'daily': 22}}\n",
      "  resample_how: None\n",
      "  var_outlier_ranges: None\n",
      "  var_ref_outlier_ranges: None\n",
      "  harmonise_units: True\n",
      "  vert_scheme: None\n",
      "  regrid_res_deg: None\n",
      "  ignore_station_names: None\n",
      "  basedir_coldata: /home/jonasg/MyPyaerocom/ws21/pyaerocom-meetings/Feb2021_Workshop/coldata\n",
      "  model_ts_type_read: None\n",
      "  model_read_aux: None\n",
      "  model_use_climatology: False\n",
      "  colocate_time: False\n",
      "  flex_ts_type_gridded: True\n",
      "  reanalyse_existing: False\n",
      "  raise_exceptions: False\n",
      "\n",
      "obs_config:\n",
      "\n",
      "  G-EBAS-d-rural:\n",
      "    obs_id: GHOST.EBAS.daily\n",
      "    obs_type: None\n",
      "    obs_vars (list, 2 items): ['concpm10', 'concpm25']\n",
      "    obs_ts_type_read: None\n",
      "    obs_vert_type: Surface\n",
      "    obs_aux_requires (dict):\n",
      "    obs_aux_funs (dict):\n",
      "    obs_aux_units (dict):\n",
      "    read_opts_ungridded: None\n",
      "    obs_data_dir: /home/jonasg/MyPyaerocom/ws21/obslocal/GHOST/data/EBAS/daily\n",
      "    obs_filters (dict):\n",
      "      altitude (list, 2 items): [0, 1000]\n",
      "      set_flags_nan: True\n",
      "      station_classification (list, 1 items): ['background']\n",
      "      area_classification (list, 4 items): ['rural', 'rural-near_city', 'rural-regional', 'rural-remote']\n",
      "\n",
      "  G-EEA-d-rural:\n",
      "    obs_id: GHOST.EEA.daily\n",
      "    obs_type: None\n",
      "    obs_vars (list, 2 items): ['concpm10', 'concpm25']\n",
      "    obs_ts_type_read: None\n",
      "    obs_vert_type: Surface\n",
      "    obs_aux_requires (dict):\n",
      "    obs_aux_funs (dict):\n",
      "    obs_aux_units (dict):\n",
      "    read_opts_ungridded: None\n",
      "    obs_data_dir: /home/jonasg/MyPyaerocom/ws21/obslocal/GHOST/data/EEA_AQ_eReporting/daily\n",
      "    obs_filters (dict):\n",
      "      altitude (list, 2 items): [0, 1000]\n",
      "      set_flags_nan: True\n",
      "      station_classification (list, 1 items): ['background']\n",
      "      area_classification (list, 4 items): ['rural', 'rural-near_city', 'rural-regional', 'rural-remote']\n",
      "\n",
      "model_config:\n",
      "\n",
      "  IFS-CTRL:\n",
      "    model_id: ECMWF_CNTRL\n",
      "    model_ts_type_read: None\n",
      "    model_use_vars (dict):\n",
      "    model_read_aux (dict):\n",
      "\n",
      "  IFS-OSUITE:\n",
      "    model_id: ECMWF_OSUITE\n",
      "    model_ts_type_read: None\n",
      "    model_use_vars (dict):\n",
      "    model_read_aux (dict):\n"
     ]
    }
   ],
   "source": [
    "print(stp)"
   ]
  },
  {
   "cell_type": "code",
   "execution_count": 11,
   "metadata": {},
   "outputs": [],
   "source": [
    "stp.var_mapping = pya.web.web_naming_conventions.VAR_MAPPING"
   ]
  },
  {
   "cell_type": "code",
   "execution_count": 12,
   "metadata": {},
   "outputs": [
    {
     "name": "stderr",
     "output_type": "stream",
     "text": [
      "\n",
      "Running analysis:\n",
      "Obs. names: ['G-EBAS-d-rural', 'G-EEA-d-rural']\n",
      "Model names: ['IFS-CTRL', 'IFS-OSUITE']\n",
      "Remove outliers: True\n",
      "Harmonise units: True\n",
      "Delete existing json files before reanalysis: True\n",
      "Reanalyse existing colocated NetCDF files: False\n",
      "Run only colocation (no json files computed): False\n",
      "Raise exceptions if they occur: False\n",
      "\n",
      "Running colocation of IFS-CTRL against G-EBAS-d-rural\n",
      "PREPARING colocation of ECMWF_CNTRL vs. GHOST.EBAS.daily\n",
      "The following variable combinations will be colocated\n",
      "MODEL-VAR\tOBS-VAR\n",
      "concpm10\tconcpm10\n",
      "concpm25\tconcpm25\n",
      "Running ECMWF_CNTRL / GHOST.EBAS.daily (concpm10, concpm10)\n",
      "Deactivating file search by vertical code for ECMWF_CNTRL, since filenames do not include information about vertical code (probably AeroCom 2 convention)\n",
      "Did not find concpm10 field but sconcpm10. Using the latter instead\n",
      "Skip concpm10_REF-G-EBAS-d-rural_MOD-IFS-CTRL_20190101_20191231_daily_None.nc (file already exists)\n",
      "Running ECMWF_CNTRL / GHOST.EBAS.daily (concpm25, concpm25)\n",
      "Deactivating file search by vertical code for ECMWF_CNTRL, since filenames do not include information about vertical code (probably AeroCom 2 convention)\n",
      "Did not find concpm25 field but sconcpm25. Using the latter instead\n",
      "Skip concpm25_REF-G-EBAS-d-rural_MOD-IFS-CTRL_20190101_20191231_daily_None.nc (file already exists)\n",
      "Recomputing json files for existing colocated data file\n",
      "Recomputing json files for existing colocated data file\n",
      "Processing file /home/jonasg/MyPyaerocom/ws21/pyaerocom-meetings/Feb2021_Workshop/coldata/ECMWF_CNTRL/concpm25_REF-G-EBAS-d-rural_MOD-IFS-CTRL_20190101_20191231_daily_None.nc\n",
      "Computing json files for IFS-CTRL vs. G-EBAS-d-rural\n",
      "Filtering of lat_range=[-180, 180] and lon_range=[-90, 90] results in unchanged object, returning self\n",
      "Filtering of lat_range=[-180, 180] and lon_range=[-90, 90] results in unchanged object, returning self\n",
      "Overwriting existing heatmap statistics for model IFS-CTRL/concpm25 (concpm25, G-EBAS-d-rural, Surface) in glob_stats.json\n",
      "Overwriting existing heatmap statistics for model IFS-CTRL/concpm25 (concpm25, G-EBAS-d-rural, Surface) in glob_stats.json\n",
      "Filtering of lat_range=[-180, 180] and lon_range=[-90, 90] results in unchanged object, returning self\n",
      "Filtering of lat_range=[-180, 180] and lon_range=[-90, 90] results in unchanged object, returning self\n",
      "Filtering of lat_range=[-180, 180] and lon_range=[-90, 90] results in unchanged object, returning self\n",
      "Processing file /home/jonasg/MyPyaerocom/ws21/pyaerocom-meetings/Feb2021_Workshop/coldata/ECMWF_CNTRL/concpm10_REF-G-EBAS-d-rural_MOD-IFS-CTRL_20190101_20191231_daily_None.nc\n",
      "Computing json files for IFS-CTRL vs. G-EBAS-d-rural\n",
      "Filtering of lat_range=[-180, 180] and lon_range=[-90, 90] results in unchanged object, returning self\n",
      "Filtering of lat_range=[-180, 180] and lon_range=[-90, 90] results in unchanged object, returning self\n",
      "Overwriting existing heatmap statistics for model IFS-CTRL/concpm10 (concpm10, G-EBAS-d-rural, Surface) in glob_stats.json\n",
      "Overwriting existing heatmap statistics for model IFS-CTRL/concpm10 (concpm10, G-EBAS-d-rural, Surface) in glob_stats.json\n",
      "Filtering of lat_range=[-180, 180] and lon_range=[-90, 90] results in unchanged object, returning self\n",
      "Filtering of lat_range=[-180, 180] and lon_range=[-90, 90] results in unchanged object, returning self\n",
      "Filtering of lat_range=[-180, 180] and lon_range=[-90, 90] results in unchanged object, returning self\n",
      "Running colocation of IFS-OSUITE against G-EBAS-d-rural\n",
      "PREPARING colocation of ECMWF_OSUITE vs. GHOST.EBAS.daily\n",
      "The following variable combinations will be colocated\n",
      "MODEL-VAR\tOBS-VAR\n",
      "concpm10\tconcpm10\n",
      "concpm25\tconcpm25\n",
      "Running ECMWF_OSUITE / GHOST.EBAS.daily (concpm10, concpm10)\n",
      "Deactivating file search by vertical code for ECMWF_OSUITE, since filenames do not include information about vertical code (probably AeroCom 2 convention)\n",
      "Did not find concpm10 field but sconcpm10. Using the latter instead\n",
      "Skip concpm10_REF-G-EBAS-d-rural_MOD-IFS-OSUITE_20190101_20191231_daily_None.nc (file already exists)\n",
      "Running ECMWF_OSUITE / GHOST.EBAS.daily (concpm25, concpm25)\n",
      "Deactivating file search by vertical code for ECMWF_OSUITE, since filenames do not include information about vertical code (probably AeroCom 2 convention)\n",
      "Did not find concpm25 field but sconcpm25. Using the latter instead\n",
      "Skip concpm25_REF-G-EBAS-d-rural_MOD-IFS-OSUITE_20190101_20191231_daily_None.nc (file already exists)\n",
      "Recomputing json files for existing colocated data file\n",
      "Recomputing json files for existing colocated data file\n",
      "Processing file /home/jonasg/MyPyaerocom/ws21/pyaerocom-meetings/Feb2021_Workshop/coldata/ECMWF_OSUITE/concpm25_REF-G-EBAS-d-rural_MOD-IFS-OSUITE_20190101_20191231_daily_None.nc\n",
      "Computing json files for IFS-OSUITE vs. G-EBAS-d-rural\n",
      "Filtering of lat_range=[-180, 180] and lon_range=[-90, 90] results in unchanged object, returning self\n",
      "Filtering of lat_range=[-180, 180] and lon_range=[-90, 90] results in unchanged object, returning self\n",
      "Overwriting existing heatmap statistics for model IFS-OSUITE/concpm25 (concpm25, G-EBAS-d-rural, Surface) in glob_stats.json\n",
      "Overwriting existing heatmap statistics for model IFS-OSUITE/concpm25 (concpm25, G-EBAS-d-rural, Surface) in glob_stats.json\n",
      "Filtering of lat_range=[-180, 180] and lon_range=[-90, 90] results in unchanged object, returning self\n",
      "Filtering of lat_range=[-180, 180] and lon_range=[-90, 90] results in unchanged object, returning self\n",
      "Filtering of lat_range=[-180, 180] and lon_range=[-90, 90] results in unchanged object, returning self\n",
      "Processing file /home/jonasg/MyPyaerocom/ws21/pyaerocom-meetings/Feb2021_Workshop/coldata/ECMWF_OSUITE/concpm10_REF-G-EBAS-d-rural_MOD-IFS-OSUITE_20190101_20191231_daily_None.nc\n",
      "Computing json files for IFS-OSUITE vs. G-EBAS-d-rural\n",
      "Filtering of lat_range=[-180, 180] and lon_range=[-90, 90] results in unchanged object, returning self\n",
      "Filtering of lat_range=[-180, 180] and lon_range=[-90, 90] results in unchanged object, returning self\n",
      "Overwriting existing heatmap statistics for model IFS-OSUITE/concpm10 (concpm10, G-EBAS-d-rural, Surface) in glob_stats.json\n",
      "Overwriting existing heatmap statistics for model IFS-OSUITE/concpm10 (concpm10, G-EBAS-d-rural, Surface) in glob_stats.json\n",
      "Filtering of lat_range=[-180, 180] and lon_range=[-90, 90] results in unchanged object, returning self\n",
      "Filtering of lat_range=[-180, 180] and lon_range=[-90, 90] results in unchanged object, returning self\n",
      "Filtering of lat_range=[-180, 180] and lon_range=[-90, 90] results in unchanged object, returning self\n",
      "Running colocation of IFS-CTRL against G-EEA-d-rural\n",
      "PREPARING colocation of ECMWF_CNTRL vs. GHOST.EEA.daily\n",
      "The following variable combinations will be colocated\n",
      "MODEL-VAR\tOBS-VAR\n",
      "concpm10\tconcpm10\n",
      "concpm25\tconcpm25\n",
      "Running ECMWF_CNTRL / GHOST.EEA.daily (concpm10, concpm10)\n",
      "Deactivating file search by vertical code for ECMWF_CNTRL, since filenames do not include information about vertical code (probably AeroCom 2 convention)\n",
      "Did not find concpm10 field but sconcpm10. Using the latter instead\n",
      "Skip concpm10_REF-G-EEA-d-rural_MOD-IFS-CTRL_20190101_20191231_daily_None.nc (file already exists)\n",
      "Running ECMWF_CNTRL / GHOST.EEA.daily (concpm25, concpm25)\n",
      "Deactivating file search by vertical code for ECMWF_CNTRL, since filenames do not include information about vertical code (probably AeroCom 2 convention)\n",
      "Did not find concpm25 field but sconcpm25. Using the latter instead\n",
      "Skip concpm25_REF-G-EEA-d-rural_MOD-IFS-CTRL_20190101_20191231_daily_None.nc (file already exists)\n",
      "Recomputing json files for existing colocated data file\n",
      "Recomputing json files for existing colocated data file\n",
      "Processing file /home/jonasg/MyPyaerocom/ws21/pyaerocom-meetings/Feb2021_Workshop/coldata/ECMWF_CNTRL/concpm25_REF-G-EEA-d-rural_MOD-IFS-CTRL_20190101_20191231_daily_None.nc\n",
      "Computing json files for IFS-CTRL vs. G-EEA-d-rural\n",
      "Filtering of lat_range=[-180, 180] and lon_range=[-90, 90] results in unchanged object, returning self\n",
      "Filtering of lat_range=[-180, 180] and lon_range=[-90, 90] results in unchanged object, returning self\n",
      "Overwriting existing heatmap statistics for model IFS-CTRL/concpm25 (concpm25, G-EEA-d-rural, Surface) in glob_stats.json\n",
      "Overwriting existing heatmap statistics for model IFS-CTRL/concpm25 (concpm25, G-EEA-d-rural, Surface) in glob_stats.json\n",
      "Filtering of lat_range=[-180, 180] and lon_range=[-90, 90] results in unchanged object, returning self\n",
      "Filtering of lat_range=[-180, 180] and lon_range=[-90, 90] results in unchanged object, returning self\n",
      "Filtering of lat_range=[-180, 180] and lon_range=[-90, 90] results in unchanged object, returning self\n",
      "Processing file /home/jonasg/MyPyaerocom/ws21/pyaerocom-meetings/Feb2021_Workshop/coldata/ECMWF_CNTRL/concpm10_REF-G-EEA-d-rural_MOD-IFS-CTRL_20190101_20191231_daily_None.nc\n",
      "Computing json files for IFS-CTRL vs. G-EEA-d-rural\n",
      "Filtering of lat_range=[-180, 180] and lon_range=[-90, 90] results in unchanged object, returning self\n",
      "Filtering of lat_range=[-180, 180] and lon_range=[-90, 90] results in unchanged object, returning self\n",
      "Overwriting existing heatmap statistics for model IFS-CTRL/concpm10 (concpm10, G-EEA-d-rural, Surface) in glob_stats.json\n",
      "Overwriting existing heatmap statistics for model IFS-CTRL/concpm10 (concpm10, G-EEA-d-rural, Surface) in glob_stats.json\n",
      "Filtering of lat_range=[-180, 180] and lon_range=[-90, 90] results in unchanged object, returning self\n",
      "Filtering of lat_range=[-180, 180] and lon_range=[-90, 90] results in unchanged object, returning self\n",
      "Filtering of lat_range=[-180, 180] and lon_range=[-90, 90] results in unchanged object, returning self\n",
      "Running colocation of IFS-OSUITE against G-EEA-d-rural\n",
      "PREPARING colocation of ECMWF_OSUITE vs. GHOST.EEA.daily\n",
      "The following variable combinations will be colocated\n",
      "MODEL-VAR\tOBS-VAR\n",
      "concpm10\tconcpm10\n",
      "concpm25\tconcpm25\n",
      "Running ECMWF_OSUITE / GHOST.EEA.daily (concpm10, concpm10)\n",
      "Deactivating file search by vertical code for ECMWF_OSUITE, since filenames do not include information about vertical code (probably AeroCom 2 convention)\n",
      "Did not find concpm10 field but sconcpm10. Using the latter instead\n",
      "Skip concpm10_REF-G-EEA-d-rural_MOD-IFS-OSUITE_20190101_20191231_daily_None.nc (file already exists)\n",
      "Running ECMWF_OSUITE / GHOST.EEA.daily (concpm25, concpm25)\n",
      "Deactivating file search by vertical code for ECMWF_OSUITE, since filenames do not include information about vertical code (probably AeroCom 2 convention)\n",
      "Did not find concpm25 field but sconcpm25. Using the latter instead\n",
      "Skip concpm25_REF-G-EEA-d-rural_MOD-IFS-OSUITE_20190101_20191231_daily_None.nc (file already exists)\n",
      "Recomputing json files for existing colocated data file\n",
      "Recomputing json files for existing colocated data file\n",
      "Processing file /home/jonasg/MyPyaerocom/ws21/pyaerocom-meetings/Feb2021_Workshop/coldata/ECMWF_OSUITE/concpm25_REF-G-EEA-d-rural_MOD-IFS-OSUITE_20190101_20191231_daily_None.nc\n",
      "Computing json files for IFS-OSUITE vs. G-EEA-d-rural\n",
      "Filtering of lat_range=[-180, 180] and lon_range=[-90, 90] results in unchanged object, returning self\n",
      "Filtering of lat_range=[-180, 180] and lon_range=[-90, 90] results in unchanged object, returning self\n",
      "Overwriting existing heatmap statistics for model IFS-OSUITE/concpm25 (concpm25, G-EEA-d-rural, Surface) in glob_stats.json\n",
      "Overwriting existing heatmap statistics for model IFS-OSUITE/concpm25 (concpm25, G-EEA-d-rural, Surface) in glob_stats.json\n",
      "Filtering of lat_range=[-180, 180] and lon_range=[-90, 90] results in unchanged object, returning self\n",
      "Filtering of lat_range=[-180, 180] and lon_range=[-90, 90] results in unchanged object, returning self\n",
      "Filtering of lat_range=[-180, 180] and lon_range=[-90, 90] results in unchanged object, returning self\n",
      "Processing file /home/jonasg/MyPyaerocom/ws21/pyaerocom-meetings/Feb2021_Workshop/coldata/ECMWF_OSUITE/concpm10_REF-G-EEA-d-rural_MOD-IFS-OSUITE_20190101_20191231_daily_None.nc\n",
      "Computing json files for IFS-OSUITE vs. G-EEA-d-rural\n",
      "Filtering of lat_range=[-180, 180] and lon_range=[-90, 90] results in unchanged object, returning self\n",
      "Filtering of lat_range=[-180, 180] and lon_range=[-90, 90] results in unchanged object, returning self\n",
      "Overwriting existing heatmap statistics for model IFS-OSUITE/concpm10 (concpm10, G-EEA-d-rural, Surface) in glob_stats.json\n",
      "Overwriting existing heatmap statistics for model IFS-OSUITE/concpm10 (concpm10, G-EEA-d-rural, Surface) in glob_stats.json\n",
      "Filtering of lat_range=[-180, 180] and lon_range=[-90, 90] results in unchanged object, returning self\n",
      "Filtering of lat_range=[-180, 180] and lon_range=[-90, 90] results in unchanged object, returning self\n",
      "Filtering of lat_range=[-180, 180] and lon_range=[-90, 90] results in unchanged object, returning self\n",
      "Adding new observation variable: concpm25\n",
      "Adding new observation variable: concpm10\n",
      "Sub menu for experiment example2 already exists in menu.json and will be overwritten\n"
     ]
    },
    {
     "data": {
      "text/plain": [
       "['/home/jonasg/MyPyaerocom/ws21/pyaerocom-meetings/Feb2021_Workshop/coldata/ECMWF_OSUITE/concpm25_REF-G-EEA-d-rural_MOD-IFS-OSUITE_20190101_20191231_daily_None.nc',\n",
       " '/home/jonasg/MyPyaerocom/ws21/pyaerocom-meetings/Feb2021_Workshop/coldata/ECMWF_OSUITE/concpm10_REF-G-EEA-d-rural_MOD-IFS-OSUITE_20190101_20191231_daily_None.nc']"
      ]
     },
     "execution_count": 12,
     "metadata": {},
     "output_type": "execute_result"
    }
   ],
   "source": [
    "stp.run_evaluation()"
   ]
  },
  {
   "cell_type": "markdown",
   "metadata": {},
   "source": [
    "## Looking at the results"
   ]
  },
  {
   "cell_type": "markdown",
   "metadata": {},
   "source": [
    "If you have not done so already, launch the local webserver (from **web** repo):\n",
    "\n",
    "```bash\n",
    "php -S localhost:8000\n",
    "```\n",
    "\n",
    "And checkout:\n",
    "\n",
    "http://localhost:8000/main.php?project=workshop2021"
   ]
  }
 ],
 "metadata": {
  "kernelspec": {
   "display_name": "Python 3",
   "language": "python",
   "name": "python3"
  },
  "language_info": {
   "codemirror_mode": {
    "name": "ipython",
    "version": 3
   },
   "file_extension": ".py",
   "mimetype": "text/x-python",
   "name": "python",
   "nbconvert_exporter": "python",
   "pygments_lexer": "ipython3",
   "version": "3.8.6"
  }
 },
 "nbformat": 4,
 "nbformat_minor": 4
}
