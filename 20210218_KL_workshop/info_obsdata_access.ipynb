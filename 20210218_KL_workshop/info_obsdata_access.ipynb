{
 "cells": [
  {
   "cell_type": "markdown",
   "id": "metric-license",
   "metadata": {},
   "source": [
    "# Some more info on reading of ungridded obsdata\n",
    "\n",
    "This notebook shows how to:\n",
    "\n",
    "- Understanding the architecture of ungridded reading\n",
    "- Find the correct data ID for an observation network\n",
    "- Identify the low-level reading classes used by `ReadUngridded`\n",
    "- Register a new observation dataset (e.g. a [local copy](https://github.com/metno/pyaerocom-meetings/tree/master/Feb2021_Workshop#speedup---create-a-local-copy-of-relevant-obsdata))\n",
    "\n",
    "## Basic architecture of ungridded data import\n",
    "\n",
    "![](suppl/pyaerocom_ungridded_io_flowchart.png)\n",
    "\n",
    "The `ReadUngridded` class is used by the user, but the actual reading of a dataset happens in one of the reading classes for the different obs datasets (as they come in all sorts of formats). So each dataset needs\n",
    "\n",
    "- a **data_id**\n",
    "- a path where the data is located\n",
    "- and a low-level reader class, so that `ReadUngridded` knows, which reader to invoke for that **data_id**"
   ]
  },
  {
   "cell_type": "markdown",
   "id": "eleven-mystery",
   "metadata": {},
   "source": [
    "## Hands-on part"
   ]
  },
  {
   "cell_type": "code",
   "execution_count": 1,
   "id": "after-outline",
   "metadata": {},
   "outputs": [
    {
     "data": {
      "text/plain": [
       "'0.10.0'"
      ]
     },
     "execution_count": 1,
     "metadata": {},
     "output_type": "execute_result"
    }
   ],
   "source": [
    "import pyaerocom as pya\n",
    "pya.__version__"
   ]
  },
  {
   "cell_type": "code",
   "execution_count": 2,
   "id": "hybrid-leone",
   "metadata": {},
   "outputs": [
    {
     "data": {
      "text/plain": [
       "True"
      ]
     },
     "execution_count": 2,
     "metadata": {},
     "output_type": "execute_result"
    }
   ],
   "source": [
    "pya.const.has_access_lustre"
   ]
  },
  {
   "cell_type": "markdown",
   "id": "collectible-testing",
   "metadata": {},
   "source": [
    "## Get a list of registered default ungridded obs IDs and corresponding paths\n",
    "\n",
    "**NOTE**: these are defaults paths for the obs IDs, and the printed paths do not necessarily exist or are accessible."
   ]
  },
  {
   "cell_type": "code",
   "execution_count": 3,
   "id": "raising-mississippi",
   "metadata": {},
   "outputs": [
    {
     "data": {
      "text/plain": [
       "OrderedDict([('AeronetSunV2Lev1.5.daily', '/lustre/storeA/project/aerocom/'),\n",
       "             ('AeronetSun_2.0_NRT',\n",
       "              '/lustre/storeA/project/aerocom/aerocom1/AEROCOM_OBSDATA/AeronetSunNRT'),\n",
       "             ('AeronetSunV2Lev2.daily',\n",
       "              '/lustre/storeA/project/aerocom/aerocom1/AEROCOM_OBSDATA/AeronetRaw2.0/renamed'),\n",
       "             ('AeronetSunV2Lev2.AP',\n",
       "              '/lustre/storeA/project/aerocom/aerocom1/AEROCOM_OBSDATA/AeronetSun2.0AllPoints/renamed'),\n",
       "             ('AeronetSDAV2Lev2.daily',\n",
       "              '/lustre/storeA/project/aerocom/aerocom1/AEROCOM_OBSDATA/AeronetSun2.0.SDA.daily/renamed'),\n",
       "             ('AeronetSDAV2Lev2.AP',\n",
       "              '/lustre/storeA/project/aerocom/aerocom1/AEROCOM_OBSDATA/AeronetSun2.0.SDA.AP/renamed'),\n",
       "             ('AeronetInvV2Lev1.5.daily',\n",
       "              '/lustre/storeA/project/aerocom/aerocom1/AEROCOM_OBSDATA/Aeronet.Inv.V2L1.5.daily/renamed'),\n",
       "             ('AeronetInvV2Lev1.5.AP',\n",
       "              '/lustre/storeA/project/aerocom/aerocom1/AEROCOM_OBSDATA/'),\n",
       "             ('AeronetInvV2Lev2.daily',\n",
       "              '/lustre/storeA/project/aerocom/aerocom1/AEROCOM_OBSDATA/Aeronet.Inv.V2L2.0.daily/renamed'),\n",
       "             ('AeronetInvV2Lev2.AP',\n",
       "              '/lustre/storeA/project/aerocom/aerocom1/AEROCOM_OBSDATA/'),\n",
       "             ('AeronetSunV3Lev1.5.daily',\n",
       "              '/lustre/storeA/project/aerocom/aerocom1/AEROCOM_OBSDATA/AeronetSunV3Lev1.5.daily/renamed'),\n",
       "             ('AeronetSunV3Lev1.5.AP',\n",
       "              '/lustre/storeA/project/aerocom/aerocom1/AEROCOM_OBSDATA/AeronetSunV3Lev1.5.AP/renamed'),\n",
       "             ('AeronetSunV3Lev2.daily',\n",
       "              '/lustre/storeA/project/aerocom/aerocom1/AEROCOM_OBSDATA/AeronetSunV3Lev2.0.daily/renamed'),\n",
       "             ('AeronetSunV3Lev2.AP',\n",
       "              '/lustre/storeA/project/aerocom/aerocom1/AEROCOM_OBSDATA/AeronetSunV3Lev2.0.AP/renamed'),\n",
       "             ('AeronetSDAV3Lev1.5.daily',\n",
       "              '/lustre/storeA/project/aerocom/aerocom1/AEROCOM_OBSDATA/Aeronet.SDA.V3L1.5.daily/renamed'),\n",
       "             ('AeronetSDAV3Lev1.5.AP',\n",
       "              '/lustre/storeA/project/aerocom/aerocom1/AEROCOM_OBSDATA/'),\n",
       "             ('AeronetSDAV3Lev2.daily',\n",
       "              '/lustre/storeA/project/aerocom/aerocom1/AEROCOM_OBSDATA/Aeronet.SDA.V3L2.0.daily/renamed'),\n",
       "             ('AeronetSDAV3Lev2.AP',\n",
       "              '/lustre/storeA/project/aerocom/aerocom1/AEROCOM_OBSDATA/'),\n",
       "             ('AeronetInvV3Lev1.5.daily',\n",
       "              '/lustre/storeA/project/aerocom/aerocom1/AEROCOM_OBSDATA/Aeronet.Inv.V3L1.5.daily/renamed'),\n",
       "             ('AeronetInvV3Lev2.daily',\n",
       "              '/lustre/storeA/project/aerocom/aerocom1/AEROCOM_OBSDATA/Aeronet.Inv.V3L2.0.daily/renamed'),\n",
       "             ('EBASMC',\n",
       "              '/lustre/storeA/project/aerocom/aerocom1/AEROCOM_OBSDATA/EBASMultiColumn/data'),\n",
       "             ('EEAAQeRep',\n",
       "              '/lustre/storeA/project/aerocom/aerocom1/AEROCOM_OBSDATA/EEA_AQeRep/renamed'),\n",
       "             ('EARLINET',\n",
       "              '/lustre/storeA/project/aerocom/aerocom1/AEROCOM_OBSDATA/Export/Earlinet/CAMS/data'),\n",
       "             ('GAWTADsubsetAasEtAl',\n",
       "              '/lustre/storeA/project/aerocom/aerocom1/AEROCOM_OBSDATA/PYAEROCOM/GAWTADSulphurSubset/data'),\n",
       "             ('DMS_AMS_CVO',\n",
       "              '/lustre/storeA/project/aerocom/aerocom1/AEROCOM_OBSDATA/PYAEROCOM/DMS_AMS_CVO/data'),\n",
       "             ('GHOST.EEA.daily',\n",
       "              '/lustre/storeA/project/aerocom/aerocom1/AEROCOM_OBSDATA/GHOST/data/EEA_AQ_eReporting/daily'),\n",
       "             ('GHOST.EEA.hourly',\n",
       "              '/lustre/storeA/project/aerocom/aerocom1/AEROCOM_OBSDATA/GHOST/data/EEA_AQ_eReporting/hourly'),\n",
       "             ('GHOST.EEA.monthly',\n",
       "              '/lustre/storeA/project/aerocom/aerocom1/AEROCOM_OBSDATA/GHOST/data/EEA_AQ_eReporting/monthly'),\n",
       "             ('GHOST.EBAS.daily',\n",
       "              '/lustre/storeA/project/aerocom/aerocom1/AEROCOM_OBSDATA/GHOST/data/EBAS/daily'),\n",
       "             ('GHOST.EBAS.hourly',\n",
       "              '/lustre/storeA/project/aerocom/aerocom1/AEROCOM_OBSDATA/GHOST/data/EBAS/hourly'),\n",
       "             ('GHOST.EBAS.monthly',\n",
       "              '/lustre/storeA/project/aerocom/aerocom1/AEROCOM_OBSDATA/GHOST/data/EBAS/monthly')])"
      ]
     },
     "execution_count": 3,
     "metadata": {},
     "output_type": "execute_result"
    }
   ],
   "source": [
    "pya.const.OBSLOCS_UNGRIDDED"
   ]
  },
  {
   "cell_type": "markdown",
   "id": "waiting-trinity",
   "metadata": {},
   "source": [
    "In addition to the paths, for ungridded observations, a reading engine needs to be registered. Registered low-level reading classes can be accessed via `ReadUngridded` class."
   ]
  },
  {
   "cell_type": "code",
   "execution_count": 4,
   "id": "warming-triumph",
   "metadata": {},
   "outputs": [
    {
     "data": {
      "text/plain": [
       "[pyaerocom.io.read_aeronet_invv3.ReadAeronetInvV3,\n",
       " pyaerocom.io.read_aeronet_invv2.ReadAeronetInvV2,\n",
       " pyaerocom.io.read_aeronet_sdav2.ReadAeronetSdaV2,\n",
       " pyaerocom.io.read_aeronet_sdav3.ReadAeronetSdaV3,\n",
       " pyaerocom.io.read_aeronet_sunv2.ReadAeronetSunV2,\n",
       " pyaerocom.io.read_aeronet_sunv3.ReadAeronetSunV3,\n",
       " pyaerocom.io.read_earlinet.ReadEarlinet,\n",
       " pyaerocom.io.read_ebas.ReadEbas,\n",
       " pyaerocom.io.read_gaw.ReadGAW,\n",
       " pyaerocom.io.read_aasetal.ReadAasEtal,\n",
       " pyaerocom.io.read_ghost.ReadGhost]"
      ]
     },
     "execution_count": 4,
     "metadata": {},
     "output_type": "execute_result"
    }
   ],
   "source": [
    "reader = pya.io.ReadUngridded()\n",
    "reader.SUPPORTED_READERS"
   ]
  },
  {
   "cell_type": "markdown",
   "id": "going-headset",
   "metadata": {},
   "source": [
    "These are all registerd data IDs:"
   ]
  },
  {
   "cell_type": "code",
   "execution_count": 5,
   "id": "solid-skirt",
   "metadata": {},
   "outputs": [
    {
     "data": {
      "text/plain": [
       "['AeronetInvV3Lev2.daily',\n",
       " 'AeronetInvV3Lev1.5.daily',\n",
       " 'AeronetInvV2Lev2.daily',\n",
       " 'AeronetInvV2Lev1.5.daily',\n",
       " 'AeronetSDAV2Lev2.daily',\n",
       " 'AeronetSDAV3Lev1.5.daily',\n",
       " 'AeronetSDAV3Lev2.daily',\n",
       " 'AeronetSunV2Lev2.daily',\n",
       " 'AeronetSunV2Lev2.AP',\n",
       " 'AeronetSunV3Lev1.5.daily',\n",
       " 'AeronetSunV3Lev1.5.AP',\n",
       " 'AeronetSunV3Lev2.daily',\n",
       " 'AeronetSunV3Lev2.AP',\n",
       " 'EARLINET',\n",
       " 'EBASMC',\n",
       " 'DMS_AMS_CVO',\n",
       " 'GAWTADsubsetAasEtAl',\n",
       " 'GHOST.EEA.monthly',\n",
       " 'GHOST.EEA.hourly',\n",
       " 'GHOST.EEA.daily',\n",
       " 'GHOST.EBAS.monthly',\n",
       " 'GHOST.EBAS.hourly',\n",
       " 'GHOST.EBAS.daily']"
      ]
     },
     "execution_count": 5,
     "metadata": {},
     "output_type": "execute_result"
    }
   ],
   "source": [
    "reader.SUPPORTED_DATASETS"
   ]
  },
  {
   "cell_type": "markdown",
   "id": "downtown-princess",
   "metadata": {},
   "source": [
    "To get a reader for a ungridded ID, you can do:"
   ]
  },
  {
   "cell_type": "code",
   "execution_count": 6,
   "id": "structural-enough",
   "metadata": {},
   "outputs": [
    {
     "data": {
      "text/plain": [
       "ReadEbas"
      ]
     },
     "execution_count": 6,
     "metadata": {},
     "output_type": "execute_result"
    }
   ],
   "source": [
    "ebas_reader = reader.get_reader('EBASMC')\n",
    "ebas_reader"
   ]
  },
  {
   "cell_type": "markdown",
   "id": "periodic-debate",
   "metadata": {},
   "source": [
    "For a given reader, you can check all data IDs that are supported via:"
   ]
  },
  {
   "cell_type": "code",
   "execution_count": 7,
   "id": "promising-freight",
   "metadata": {},
   "outputs": [
    {
     "data": {
      "text/plain": [
       "['EBASMC']"
      ]
     },
     "execution_count": 7,
     "metadata": {},
     "output_type": "execute_result"
    }
   ],
   "source": [
    "ebas_reader.SUPPORTED_DATASETS"
   ]
  },
  {
   "cell_type": "code",
   "execution_count": 8,
   "id": "figured-tucson",
   "metadata": {},
   "outputs": [
    {
     "data": {
      "text/plain": [
       "['AeronetSunV3Lev1.5.daily',\n",
       " 'AeronetSunV3Lev1.5.AP',\n",
       " 'AeronetSunV3Lev2.daily',\n",
       " 'AeronetSunV3Lev2.AP']"
      ]
     },
     "execution_count": 8,
     "metadata": {},
     "output_type": "execute_result"
    }
   ],
   "source": [
    "reader.get_reader('AeronetSunV3Lev2.daily').SUPPORTED_DATASETS"
   ]
  },
  {
   "cell_type": "markdown",
   "id": "reasonable-liquid",
   "metadata": {},
   "source": [
    "So the lowlevel reader for Aeronet version 3 level 2, daily averages also supports level 1.5 data as well as all-points (AP) data in addition to the daily dataset."
   ]
  },
  {
   "cell_type": "markdown",
   "id": "secure-leonard",
   "metadata": {},
   "source": [
    "The following line will register a local copy of the EBAS dataset under a new name:"
   ]
  },
  {
   "cell_type": "code",
   "execution_count": 9,
   "id": "unusual-impossible",
   "metadata": {},
   "outputs": [],
   "source": [
    "pya.const.add_ungridded_obs(obs_id='EBAS-LOCAL', \n",
    "                            data_dir='/home/jonasg/MyPyaerocom/ws21/obslocal/EBASMultiColumn/data',\n",
    "                            reader=pya.io.ReadEbas)"
   ]
  },
  {
   "cell_type": "markdown",
   "id": "international-surveillance",
   "metadata": {},
   "source": [
    "Which has been registered in the `ReadEbas` class above, so now"
   ]
  },
  {
   "cell_type": "code",
   "execution_count": 10,
   "id": "integrated-choir",
   "metadata": {},
   "outputs": [
    {
     "data": {
      "text/plain": [
       "['EBASMC', 'EBAS-LOCAL']"
      ]
     },
     "execution_count": 10,
     "metadata": {},
     "output_type": "execute_result"
    }
   ],
   "source": [
    "ebas_reader.SUPPORTED_DATASETS"
   ]
  },
  {
   "cell_type": "markdown",
   "id": "peripheral-welcome",
   "metadata": {},
   "source": [
    "Now this dataset can be read via the new obs ID, which is registered:"
   ]
  },
  {
   "cell_type": "code",
   "execution_count": 11,
   "id": "unsigned-prevention",
   "metadata": {},
   "outputs": [
    {
     "data": {
      "text/plain": [
       "OrderedDict([('AeronetSunV2Lev1.5.daily', '/lustre/storeA/project/aerocom/'),\n",
       "             ('AeronetSun_2.0_NRT',\n",
       "              '/lustre/storeA/project/aerocom/aerocom1/AEROCOM_OBSDATA/AeronetSunNRT'),\n",
       "             ('AeronetSunV2Lev2.daily',\n",
       "              '/lustre/storeA/project/aerocom/aerocom1/AEROCOM_OBSDATA/AeronetRaw2.0/renamed'),\n",
       "             ('AeronetSunV2Lev2.AP',\n",
       "              '/lustre/storeA/project/aerocom/aerocom1/AEROCOM_OBSDATA/AeronetSun2.0AllPoints/renamed'),\n",
       "             ('AeronetSDAV2Lev2.daily',\n",
       "              '/lustre/storeA/project/aerocom/aerocom1/AEROCOM_OBSDATA/AeronetSun2.0.SDA.daily/renamed'),\n",
       "             ('AeronetSDAV2Lev2.AP',\n",
       "              '/lustre/storeA/project/aerocom/aerocom1/AEROCOM_OBSDATA/AeronetSun2.0.SDA.AP/renamed'),\n",
       "             ('AeronetInvV2Lev1.5.daily',\n",
       "              '/lustre/storeA/project/aerocom/aerocom1/AEROCOM_OBSDATA/Aeronet.Inv.V2L1.5.daily/renamed'),\n",
       "             ('AeronetInvV2Lev1.5.AP',\n",
       "              '/lustre/storeA/project/aerocom/aerocom1/AEROCOM_OBSDATA/'),\n",
       "             ('AeronetInvV2Lev2.daily',\n",
       "              '/lustre/storeA/project/aerocom/aerocom1/AEROCOM_OBSDATA/Aeronet.Inv.V2L2.0.daily/renamed'),\n",
       "             ('AeronetInvV2Lev2.AP',\n",
       "              '/lustre/storeA/project/aerocom/aerocom1/AEROCOM_OBSDATA/'),\n",
       "             ('AeronetSunV3Lev1.5.daily',\n",
       "              '/lustre/storeA/project/aerocom/aerocom1/AEROCOM_OBSDATA/AeronetSunV3Lev1.5.daily/renamed'),\n",
       "             ('AeronetSunV3Lev1.5.AP',\n",
       "              '/lustre/storeA/project/aerocom/aerocom1/AEROCOM_OBSDATA/AeronetSunV3Lev1.5.AP/renamed'),\n",
       "             ('AeronetSunV3Lev2.daily',\n",
       "              '/lustre/storeA/project/aerocom/aerocom1/AEROCOM_OBSDATA/AeronetSunV3Lev2.0.daily/renamed'),\n",
       "             ('AeronetSunV3Lev2.AP',\n",
       "              '/lustre/storeA/project/aerocom/aerocom1/AEROCOM_OBSDATA/AeronetSunV3Lev2.0.AP/renamed'),\n",
       "             ('AeronetSDAV3Lev1.5.daily',\n",
       "              '/lustre/storeA/project/aerocom/aerocom1/AEROCOM_OBSDATA/Aeronet.SDA.V3L1.5.daily/renamed'),\n",
       "             ('AeronetSDAV3Lev1.5.AP',\n",
       "              '/lustre/storeA/project/aerocom/aerocom1/AEROCOM_OBSDATA/'),\n",
       "             ('AeronetSDAV3Lev2.daily',\n",
       "              '/lustre/storeA/project/aerocom/aerocom1/AEROCOM_OBSDATA/Aeronet.SDA.V3L2.0.daily/renamed'),\n",
       "             ('AeronetSDAV3Lev2.AP',\n",
       "              '/lustre/storeA/project/aerocom/aerocom1/AEROCOM_OBSDATA/'),\n",
       "             ('AeronetInvV3Lev1.5.daily',\n",
       "              '/lustre/storeA/project/aerocom/aerocom1/AEROCOM_OBSDATA/Aeronet.Inv.V3L1.5.daily/renamed'),\n",
       "             ('AeronetInvV3Lev2.daily',\n",
       "              '/lustre/storeA/project/aerocom/aerocom1/AEROCOM_OBSDATA/Aeronet.Inv.V3L2.0.daily/renamed'),\n",
       "             ('EBASMC',\n",
       "              '/lustre/storeA/project/aerocom/aerocom1/AEROCOM_OBSDATA/EBASMultiColumn/data'),\n",
       "             ('EEAAQeRep',\n",
       "              '/lustre/storeA/project/aerocom/aerocom1/AEROCOM_OBSDATA/EEA_AQeRep/renamed'),\n",
       "             ('EARLINET',\n",
       "              '/lustre/storeA/project/aerocom/aerocom1/AEROCOM_OBSDATA/Export/Earlinet/CAMS/data'),\n",
       "             ('GAWTADsubsetAasEtAl',\n",
       "              '/lustre/storeA/project/aerocom/aerocom1/AEROCOM_OBSDATA/PYAEROCOM/GAWTADSulphurSubset/data'),\n",
       "             ('DMS_AMS_CVO',\n",
       "              '/lustre/storeA/project/aerocom/aerocom1/AEROCOM_OBSDATA/PYAEROCOM/DMS_AMS_CVO/data'),\n",
       "             ('GHOST.EEA.daily',\n",
       "              '/lustre/storeA/project/aerocom/aerocom1/AEROCOM_OBSDATA/GHOST/data/EEA_AQ_eReporting/daily'),\n",
       "             ('GHOST.EEA.hourly',\n",
       "              '/lustre/storeA/project/aerocom/aerocom1/AEROCOM_OBSDATA/GHOST/data/EEA_AQ_eReporting/hourly'),\n",
       "             ('GHOST.EEA.monthly',\n",
       "              '/lustre/storeA/project/aerocom/aerocom1/AEROCOM_OBSDATA/GHOST/data/EEA_AQ_eReporting/monthly'),\n",
       "             ('GHOST.EBAS.daily',\n",
       "              '/lustre/storeA/project/aerocom/aerocom1/AEROCOM_OBSDATA/GHOST/data/EBAS/daily'),\n",
       "             ('GHOST.EBAS.hourly',\n",
       "              '/lustre/storeA/project/aerocom/aerocom1/AEROCOM_OBSDATA/GHOST/data/EBAS/hourly'),\n",
       "             ('GHOST.EBAS.monthly',\n",
       "              '/lustre/storeA/project/aerocom/aerocom1/AEROCOM_OBSDATA/GHOST/data/EBAS/monthly'),\n",
       "             ('EBAS-LOCAL',\n",
       "              '/home/jonasg/MyPyaerocom/ws21/obslocal/EBASMultiColumn/data')])"
      ]
     },
     "execution_count": 11,
     "metadata": {},
     "output_type": "execute_result"
    }
   ],
   "source": [
    "pya.const.OBSLOCS_UNGRIDDED"
   ]
  },
  {
   "cell_type": "markdown",
   "id": "reasonable-scott",
   "metadata": {},
   "source": [
    "### Get list of supported variables for a certain reader"
   ]
  },
  {
   "cell_type": "code",
   "execution_count": 12,
   "id": "municipal-spine",
   "metadata": {},
   "outputs": [
    {
     "data": {
      "text/plain": [
       "['DEFAULT',\n",
       " 'sc550aer',\n",
       " 'sc440aer',\n",
       " 'sc700aer',\n",
       " 'sc550dryaer',\n",
       " 'sc440dryaer',\n",
       " 'sc700dryaer',\n",
       " 'ang4470dryaer',\n",
       " 'sc550lt1aer',\n",
       " 'bsc550aer',\n",
       " 'ac550aer',\n",
       " 'ac550dryaer',\n",
       " 'ac550lt1aer',\n",
       " 'bsc550dryaer',\n",
       " 'scrh',\n",
       " 'acrh',\n",
       " 'concso4',\n",
       " 'concso2',\n",
       " 'vmrso2',\n",
       " 'concpm10',\n",
       " 'concpm25',\n",
       " 'concpm1',\n",
       " 'concso4t',\n",
       " 'concso4c',\n",
       " 'concbc',\n",
       " 'conceqbc',\n",
       " 'conctc',\n",
       " 'concoa',\n",
       " 'concoc',\n",
       " 'concss',\n",
       " 'concnh3',\n",
       " 'concno3',\n",
       " 'concnh4',\n",
       " 'conchno3',\n",
       " 'conctno3',\n",
       " 'concno2',\n",
       " 'conco3',\n",
       " 'concco',\n",
       " 'vmro3',\n",
       " 'vmrco',\n",
       " 'vmrno2',\n",
       " 'vmrno',\n",
       " 'concprcpso4',\n",
       " 'concprcpso4t',\n",
       " 'concprcpso4c',\n",
       " 'concprcpno3',\n",
       " 'concprcpso4scavenging',\n",
       " 'concprcpnh4',\n",
       " 'wetso4',\n",
       " 'wetconcso4',\n",
       " 'wetso4t',\n",
       " 'wetso4c',\n",
       " 'wetoxn',\n",
       " 'wetrdn',\n",
       " 'wetnh4',\n",
       " 'precip',\n",
       " 'wetconcph',\n",
       " 'wetno3',\n",
       " 'scavratioso4',\n",
       " 'test']"
      ]
     },
     "execution_count": 12,
     "metadata": {},
     "output_type": "execute_result"
    }
   ],
   "source": [
    "ebas_reader.PROVIDES_VARIABLES"
   ]
  },
  {
   "cell_type": "markdown",
   "id": "rational-fiction",
   "metadata": {},
   "source": [
    "### Practical tip: specify obsdata path directly in the reader instead of registering a new data ID\n",
    "\n",
    "I.e. this code:"
   ]
  },
  {
   "cell_type": "code",
   "execution_count": 13,
   "id": "rubber-desperate",
   "metadata": {},
   "outputs": [
    {
     "name": "stderr",
     "output_type": "stream",
     "text": [
      "Reading EBASMC from specified data loaction: /home/jonasg/MyPyaerocom/ws21/obslocal/EBASMultiColumn/data\n"
     ]
    }
   ],
   "source": [
    "obsdata = pya.io.ReadUngridded('EBASMC', data_dir='/home/jonasg/MyPyaerocom/ws21/obslocal/EBASMultiColumn/data').read(vars_to_retrieve=['concpm10'])"
   ]
  },
  {
   "cell_type": "markdown",
   "id": "intense-retention",
   "metadata": {},
   "source": [
    "is exactly the same as reading via the newly registered `EBAS-LOCAL`:"
   ]
  },
  {
   "cell_type": "code",
   "execution_count": 14,
   "id": "colored-classics",
   "metadata": {},
   "outputs": [],
   "source": [
    "obsdata = pya.io.ReadUngridded('EBAS-LOCAL').read(vars_to_retrieve=['concpm10'])"
   ]
  },
  {
   "cell_type": "markdown",
   "id": "atmospheric-toolbox",
   "metadata": {},
   "source": [
    "The only difference is, that the first command will cache the data under data ID `EBASMC` and the second command will store the cached object using `EBAS-LOCAL` as ID, so there is 2 cached objects of the same data now:"
   ]
  },
  {
   "cell_type": "code",
   "execution_count": 15,
   "id": "southwest-morrison",
   "metadata": {},
   "outputs": [
    {
     "data": {
      "text/plain": [
       "['/home/jonasg/MyPyaerocom/_cache/jonasg/EBASMC_concpm10.pkl',\n",
       " '/home/jonasg/MyPyaerocom/_cache/jonasg/EBAS-LOCAL_concpm10.pkl',\n",
       " '/home/jonasg/MyPyaerocom/_cache/jonasg/GHOST.EBAS.daily_concpm10.pkl']"
      ]
     },
     "execution_count": 15,
     "metadata": {},
     "output_type": "execute_result"
    }
   ],
   "source": [
    "from glob import glob\n",
    "glob(f'{pya.const.CACHEDIR}/*EBAS*concpm10*')"
   ]
  }
 ],
 "metadata": {
  "kernelspec": {
   "display_name": "Python 3",
   "language": "python",
   "name": "python3"
  },
  "language_info": {
   "codemirror_mode": {
    "name": "ipython",
    "version": 3
   },
   "file_extension": ".py",
   "mimetype": "text/x-python",
   "name": "python",
   "nbconvert_exporter": "python",
   "pygments_lexer": "ipython3",
   "version": "3.8.6"
  }
 },
 "nbformat": 4,
 "nbformat_minor": 5
}
