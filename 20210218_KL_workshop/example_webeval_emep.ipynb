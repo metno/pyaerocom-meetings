{
 "cells": [
  {
   "cell_type": "markdown",
   "metadata": {},
   "source": [
    "# Introduction into the pyaerocom web tools using local obs and model data\n",
    "\n",
    "This notebook gives an introduction on how to setup and run the AeroCom evaluation tools that are used to create the json files used in the several [AeroVal](https://aerocom-evaluation.met.no/) evaluation interfaces.\n",
    "\n",
    "## Note\n",
    "\n",
    "This notebook uses a local copy of obsdata, see [here]() for instructions how to get those data on your computer.\n",
    "\n",
    "It is recommended to checkout [setup_and_intro.ipynb](setup_and_intro.ipynb) and [example_webeval](example_webeval.ipynb) and make sure all is in place to use pyaerocom with access to PPI."
   ]
  },
  {
   "cell_type": "markdown",
   "metadata": {},
   "source": [
    "## Setting up the configuration for the analysis"
   ]
  },
  {
   "cell_type": "code",
   "execution_count": 1,
   "metadata": {},
   "outputs": [],
   "source": [
    "import os\n",
    "from warnings import filterwarnings\n",
    "filterwarnings('ignore')"
   ]
  },
  {
   "cell_type": "code",
   "execution_count": 2,
   "metadata": {},
   "outputs": [
    {
     "data": {
      "text/plain": [
       "'0.10.0'"
      ]
     },
     "execution_count": 2,
     "metadata": {},
     "output_type": "execute_result"
    }
   ],
   "source": [
    "import pyaerocom as pya\n",
    "pya.__version__"
   ]
  },
  {
   "cell_type": "markdown",
   "metadata": {},
   "source": [
    "In the following, a whole configuration setup is specified, see comments for details."
   ]
  },
  {
   "cell_type": "code",
   "execution_count": 3,
   "metadata": {},
   "outputs": [],
   "source": [
    "# Output directory (where json files are stored): NOTE: this should point to the *data* Gitlab repo that you should have cloned\n",
    "OUT_BASEDIR = os.path.abspath('../../data/json/')\n",
    "\n",
    "# ID of project (please use this ID, as this is linked with the URL later on and will make sure to write into the correct GitLab repo, under data/json/{PROJ_ID})\n",
    "# IMPORTANT NOTE: for the workshop, please all use this project ID\n",
    "PROJ_ID = 'workshop2021'\n",
    "\n",
    "# ID of experiment (will be name of subdirectory under data/json/{PROJ_ID}/{EXP_ID}) and used for experiment navigation in the web interface.\n",
    "# IMPORTANT NOTE: PLEASE CHANGE THIS FOR YOUR OWN EXPERIMENT (e.g. Group1, Group2, ...)\n",
    "EXP_ID = 'emep'\n",
    "\n",
    "# Directory where colocated NetCDF files are stored (this is not relevant for the website, so it can be set flexibly)\n",
    "COLDATA_BASEDIR = os.path.abspath('./coldata')"
   ]
  },
  {
   "cell_type": "markdown",
   "metadata": {},
   "source": [
    "### Make sure `OUT_BASEDIR` is set correctly relative to *web* repo"
   ]
  },
  {
   "cell_type": "code",
   "execution_count": 4,
   "metadata": {},
   "outputs": [],
   "source": [
    "from pathlib import Path\n",
    "path = Path(OUT_BASEDIR)\n",
    "assert path.exists()\n",
    "assert path.name == 'json'\n",
    "assert path.parent.name == 'data'\n",
    "assert 'web' in os.listdir(path.parent.parent)"
   ]
  },
  {
   "cell_type": "markdown",
   "metadata": {},
   "source": [
    "### Create analysis setup class "
   ]
  },
  {
   "cell_type": "code",
   "execution_count": 5,
   "metadata": {},
   "outputs": [
    {
     "name": "stdout",
     "output_type": "stream",
     "text": [
      "Creating dir: /home/jonasg/MyPyaerocom/ws21/data/json/workshop2021/emep\n",
      "Creating dir: /home/jonasg/MyPyaerocom/ws21/data/json/workshop2021/emep/map (map)\n",
      "Creating dir: /home/jonasg/MyPyaerocom/ws21/data/json/workshop2021/emep/ts (ts)\n",
      "Creating dir: /home/jonasg/MyPyaerocom/ws21/data/json/workshop2021/emep/ts/dw (ts/dw)\n",
      "Creating dir: /home/jonasg/MyPyaerocom/ws21/data/json/workshop2021/emep/scat (scat)\n",
      "Creating dir: /home/jonasg/MyPyaerocom/ws21/data/json/workshop2021/emep/hm (hm)\n",
      "Creating dir: /home/jonasg/MyPyaerocom/ws21/data/json/workshop2021/emep/profiles (profiles)\n"
     ]
    }
   ],
   "source": [
    "stp = pya.web.AerocomEvaluation(proj_id=PROJ_ID, exp_id=EXP_ID, \n",
    "                                exp_name='Direct processing of EMEP output',\n",
    "                                out_basedir=OUT_BASEDIR,\n",
    "                                basedir_coldata=COLDATA_BASEDIR)"
   ]
  },
  {
   "cell_type": "markdown",
   "metadata": {},
   "source": [
    "### Observation setup"
   ]
  },
  {
   "cell_type": "markdown",
   "metadata": {},
   "source": [
    "#### Set and check access to local obsdata \n",
    "\n",
    "Specify directory where the unpacked [tarball](https://github.com/metno/pyaerocom-meetings/tree/master/Feb2021_Workshop#speedup---create-a-local-copy-of-relevant-obsdata) lies locally:"
   ]
  },
  {
   "cell_type": "code",
   "execution_count": 6,
   "metadata": {},
   "outputs": [],
   "source": [
    "# PLEASE MODIFY\n",
    "OBS_BASEDIR = '/home/jonasg/MyPyaerocom/ws21/obslocal'\n",
    "\n",
    "GHOST_EEA_DAILY_LOCAL = os.path.join(OBS_BASEDIR, 'GHOST/data/EEA_AQ_eReporting/daily')\n",
    "\n",
    "# make sure the directories exist\n",
    "assert os.path.exists(GHOST_EEA_DAILY_LOCAL)"
   ]
  },
  {
   "cell_type": "markdown",
   "metadata": {},
   "source": [
    "#### Define `obs_config` in `AerocomEvaluation` class with local copy of GHOST dataset"
   ]
  },
  {
   "cell_type": "code",
   "execution_count": 9,
   "metadata": {},
   "outputs": [],
   "source": [
    "obs_cfg = {\n",
    "    # key is name as it appears in web interface, value contains setup \n",
    "    'G-EEA-d-rural'     : {\n",
    "        'obs_id'        :'GHOST.EEA.daily',\n",
    "        'obs_data_dir'  : GHOST_EEA_DAILY_LOCAL,\n",
    "        'obs_vars'      : ['concpm10', 'concpm25'], # list of variables (Angstrom Exponent, 440-870nm, and AOD at 550 nm)\n",
    "        'obs_vert_type' : 'Surface', # this is needed, choose from Column or Surface\n",
    "        'obs_filters'   : {'altitude' : [0, 1000], \n",
    "                           'set_flags_nan' : True, # Invalidate flagged data\n",
    "                           'station_classification'  :   ['background'],\n",
    "                           'area_classification'     :   ['rural','rural-near_city',\n",
    "                                                          'rural-regional', 'rural-remote']\n",
    "                          }\n",
    "    }\n",
    "}\n",
    "\n",
    "stp['obs_config'] = obs_cfg"
   ]
  },
  {
   "cell_type": "markdown",
   "metadata": {},
   "source": [
    "### Defining models to be used for evaluation\n",
    "\n",
    "Uses local copy of modeldata located here:"
   ]
  },
  {
   "cell_type": "code",
   "execution_count": 10,
   "metadata": {},
   "outputs": [],
   "source": [
    "EMEP_DIR = '/lustre/storeB/project/fou/kl/emep/ModelRuns/2020_REPORTING/EMEP01_rv4_35_2018_emepCRef2_XtraOut/'\n",
    "# Courtesy to Eirik Gallefoss for implementing EMEP reading support\n",
    "model_cfg = {\n",
    "    'EMEP-rep2020'     : {\n",
    "        'model_id' : 'EMEP',\n",
    "        'model_data_dir' : EMEP_DIR,\n",
    "        'model_ts_type_read' : {'concpm10':'daily',\n",
    "                                'concpm25': 'daily'\n",
    "                               },\n",
    "        'gridded_reader_id' : {'model':'ReadMscwCtm'}\n",
    "    },\n",
    "}\n",
    "\n",
    "stp['model_config'] = model_cfg"
   ]
  },
  {
   "cell_type": "markdown",
   "metadata": {},
   "source": [
    "## Colocation setup\n",
    "\n",
    "In the following we define essential settings for colocation of model / obs / var. Note: these can be overwritten in each individual model or obs config entry where needed."
   ]
  },
  {
   "cell_type": "code",
   "execution_count": 12,
   "metadata": {},
   "outputs": [],
   "source": [
    "DEFAULT_COLOCATION_SETTINGS = dict(\n",
    "    start = 2018, \n",
    "    stop = None,\n",
    "    ts_type = 'daily', # desired output frequency of colocated data objects\n",
    "    colocate_time = False, # if True and if input \"ts_type\" is lower resolution than highest available in model and obs, then model and obs are first colocated in higher res. before resampling to \"ts_type\"\n",
    "    weighted_stats = True, # only relevant if models are evaluated against gridded satellite data (no example provided)\n",
    "    apply_time_resampling_constraints = True,\n",
    "    # set conservative min_num_obs requirement (ca 75% coverage at daily and weekly levels)\n",
    "    min_num_obs = {'monthly' : {'daily': 22} # at least 22 days per month\n",
    "    }, # resampling\n",
    "    reanalyse_existing = False, # relevant for re-runs. If True, pre-existing colocated data files are re-used for computation of json files \n",
    "    remove_outliers=True, # remove outliers during colocation\n",
    "    harmonise_units=True, # harmonise units before colocation (e.g. if obs is in ug m-3 and model is in kg m-3). Will crash if unit conversion cannot be done (e.g. obs in ug m-3 and model in nmole mole-1).\n",
    "    model_keep_outliers=True, # if True, and remove_outliers is True, then only obs outliers are removed  (default behaviour)\n",
    ")\n",
    "\n",
    "stp.update(**DEFAULT_COLOCATION_SETTINGS)"
   ]
  },
  {
   "cell_type": "code",
   "execution_count": 13,
   "metadata": {},
   "outputs": [
    {
     "name": "stdout",
     "output_type": "stream",
     "text": [
      "\n",
      "Pyaerocom AerocomEvaluation\n",
      "---------------------------\n",
      "Project ID: workshop2021\n",
      "Eperiment ID: emep\n",
      "Experiment name: Direct processing of EMEP output\n",
      "colocation_settings: (will be updated for each run from model_config and obs_config entry)\n",
      "  save_coldata: True\n",
      "  _obs_cache_only: False\n",
      "  obs_vars: None\n",
      "  obs_vert_type: None\n",
      "  model_vert_type_alt: None\n",
      "  read_opts_ungridded: None\n",
      "  obs_ts_type_read: None\n",
      "  model_use_vars: None\n",
      "  model_add_vars: None\n",
      "  model_keep_outliers: True\n",
      "  model_to_stp: False\n",
      "  model_id: None\n",
      "  model_name: None\n",
      "  model_data_dir: None\n",
      "  obs_id: None\n",
      "  obs_name: None\n",
      "  obs_data_dir: None\n",
      "  obs_keep_outliers: False\n",
      "  obs_use_climatology: False\n",
      "  obs_add_meta: []\n",
      "  gridded_reader_id: {'model': 'ReadGridded', 'obs': 'ReadGridded'}\n",
      "  start: 2018\n",
      "  stop: None\n",
      "  ts_type: daily\n",
      "  filter_name: None\n",
      "  remove_outliers: True\n",
      "  apply_time_resampling_constraints: True\n",
      "  min_num_obs: {'monthly': {'daily': 22}}\n",
      "  resample_how: None\n",
      "  var_outlier_ranges: None\n",
      "  var_ref_outlier_ranges: None\n",
      "  harmonise_units: True\n",
      "  vert_scheme: None\n",
      "  regrid_res_deg: None\n",
      "  ignore_station_names: None\n",
      "  basedir_coldata: /home/jonasg/MyPyaerocom/ws21/pyaerocom-meetings/Feb2021_Workshop/coldata\n",
      "  model_ts_type_read: None\n",
      "  model_read_aux: None\n",
      "  model_use_climatology: False\n",
      "  colocate_time: False\n",
      "  flex_ts_type_gridded: True\n",
      "  reanalyse_existing: False\n",
      "  raise_exceptions: False\n",
      "\n",
      "obs_config:\n",
      "\n",
      "  G-EEA-d-rural:\n",
      "    obs_id: GHOST.EEA.daily\n",
      "    obs_type: None\n",
      "    obs_vars (list, 2 items): ['concpm10', 'concpm25']\n",
      "    obs_ts_type_read: None\n",
      "    obs_vert_type: Surface\n",
      "    obs_aux_requires (dict):\n",
      "    obs_aux_funs (dict):\n",
      "    obs_aux_units (dict):\n",
      "    read_opts_ungridded: None\n",
      "    obs_data_dir: /home/jonasg/MyPyaerocom/ws21/obslocal/GHOST/data/EEA_AQ_eReporting/daily\n",
      "    obs_filters (dict):\n",
      "      altitude (list, 2 items): [0, 1000]\n",
      "      set_flags_nan: True\n",
      "      station_classification (list, 1 items): ['background']\n",
      "      area_classification (list, 4 items): ['rural', 'rural-near_city', 'rural-regional', 'rural-remote']\n",
      "\n",
      "model_config:\n",
      "\n",
      "  EMEP-rep2020:\n",
      "    model_id: EMEP\n",
      "    model_ts_type_read (dict):\n",
      "      concpm10: daily\n",
      "      concpm25: daily\n",
      "    model_use_vars (dict):\n",
      "    model_read_aux (dict):\n",
      "    model_data_dir: /lustre/storeB/project/fou/kl/emep/ModelRuns/2020_REPORTING/EMEP01_rv4_35_2018_emepCRef2_XtraOut/\n",
      "    gridded_reader_id (dict):\n",
      "      model: ReadMscwCtm\n"
     ]
    }
   ],
   "source": [
    "print(stp)"
   ]
  },
  {
   "cell_type": "code",
   "execution_count": 14,
   "metadata": {},
   "outputs": [],
   "source": [
    "stp.var_mapping = pya.web.web_naming_conventions.VAR_MAPPING"
   ]
  },
  {
   "cell_type": "code",
   "execution_count": 15,
   "metadata": {},
   "outputs": [
    {
     "name": "stderr",
     "output_type": "stream",
     "text": [
      "\n",
      "Running analysis:\n",
      "Obs. names: ['G-EEA-d-rural']\n",
      "Model names: ['EMEP-rep2020']\n",
      "Remove outliers: True\n",
      "Harmonise units: True\n",
      "Delete existing json files before reanalysis: True\n",
      "Reanalyse existing colocated NetCDF files: False\n",
      "Run only colocation (no json files computed): False\n",
      "Raise exceptions if they occur: False\n",
      "\n",
      "Running colocation of EMEP-rep2020 against G-EEA-d-rural\n",
      "PREPARING colocation of EMEP vs. GHOST.EEA.daily\n",
      "The following variable combinations will be colocated\n",
      "MODEL-VAR\tOBS-VAR\n",
      "concpm10\tconcpm10\n",
      "concpm25\tconcpm25\n",
      "Running EMEP / GHOST.EEA.daily (concpm10, concpm10)\n",
      "Reading GHOST.EEA.daily from specified data loaction: /home/jonasg/MyPyaerocom/ws21/obslocal/GHOST/data/EEA_AQ_eReporting/daily\n",
      "Input filters {'altitude': [-1000000.0, 1000.0]} result in unchanged data object\n",
      "Extracting timeseries data from large array (shape: (365, 520, 1200)). This may take a while...\n",
      "Time series extraction successful. Elapsed time: 0 s\n",
      "WRITE: concpm10_REF-G-EEA-d-rural_MOD-EMEP-rep2020_20180101_20181231_daily_None.nc\n",
      "\n",
      "Running EMEP / GHOST.EEA.daily (concpm25, concpm25)\n",
      "Reading GHOST.EEA.daily from specified data loaction: /home/jonasg/MyPyaerocom/ws21/obslocal/GHOST/data/EEA_AQ_eReporting/daily\n",
      "Input filters {'altitude': [-1000000.0, 1000.0]} result in unchanged data object\n",
      "Input filters {'latitude': [30.05, 81.95000000000074], 'longitude': [-29.95, 89.95000000000171]} result in unchanged data object\n",
      "Extracting timeseries data from large array (shape: (365, 520, 1200)). This may take a while...\n",
      "Time series extraction successful. Elapsed time: 0 s\n",
      "WRITE: concpm25_REF-G-EEA-d-rural_MOD-EMEP-rep2020_20180101_20181231_daily_None.nc\n",
      "\n",
      "Processing file /home/jonasg/MyPyaerocom/ws21/pyaerocom-meetings/Feb2021_Workshop/coldata/EMEP/concpm25_REF-G-EEA-d-rural_MOD-EMEP-rep2020_20180101_20181231_daily_None.nc\n",
      "Computing json files for EMEP-rep2020 vs. G-EEA-d-rural\n",
      "Filtering of lat_range=[-180, 180] and lon_range=[-90, 90] results in unchanged object, returning self\n",
      "Filtering of lat_range=[-180, 180] and lon_range=[-90, 90] results in unchanged object, returning self\n",
      "Filtering of lat_range=[-180, 180] and lon_range=[-90, 90] results in unchanged object, returning self\n",
      "Filtering of lat_range=[-180, 180] and lon_range=[-90, 90] results in unchanged object, returning self\n",
      "Filtering of lat_range=[-180, 180] and lon_range=[-90, 90] results in unchanged object, returning self\n",
      "Processing file /home/jonasg/MyPyaerocom/ws21/pyaerocom-meetings/Feb2021_Workshop/coldata/EMEP/concpm10_REF-G-EEA-d-rural_MOD-EMEP-rep2020_20180101_20181231_daily_None.nc\n",
      "Computing json files for EMEP-rep2020 vs. G-EEA-d-rural\n",
      "Filtering of lat_range=[-180, 180] and lon_range=[-90, 90] results in unchanged object, returning self\n",
      "Filtering of lat_range=[-180, 180] and lon_range=[-90, 90] results in unchanged object, returning self\n",
      "Filtering of lat_range=[-180, 180] and lon_range=[-90, 90] results in unchanged object, returning self\n",
      "Filtering of lat_range=[-180, 180] and lon_range=[-90, 90] results in unchanged object, returning self\n",
      "Filtering of lat_range=[-180, 180] and lon_range=[-90, 90] results in unchanged object, returning self\n",
      "Adding new observation variable: concpm25\n",
      "Adding new observation variable: concpm10\n"
     ]
    },
    {
     "data": {
      "text/plain": [
       "['/home/jonasg/MyPyaerocom/ws21/pyaerocom-meetings/Feb2021_Workshop/coldata/EMEP/concpm25_REF-G-EEA-d-rural_MOD-EMEP-rep2020_20180101_20181231_daily_None.nc',\n",
       " '/home/jonasg/MyPyaerocom/ws21/pyaerocom-meetings/Feb2021_Workshop/coldata/EMEP/concpm10_REF-G-EEA-d-rural_MOD-EMEP-rep2020_20180101_20181231_daily_None.nc']"
      ]
     },
     "execution_count": 15,
     "metadata": {},
     "output_type": "execute_result"
    }
   ],
   "source": [
    "stp.run_evaluation()"
   ]
  },
  {
   "cell_type": "markdown",
   "metadata": {},
   "source": [
    "## Looking at the results"
   ]
  },
  {
   "cell_type": "markdown",
   "metadata": {},
   "source": [
    "If you have not done so already, launch the local webserver (from **web** repo):\n",
    "\n",
    "```bash\n",
    "php -S localhost:8000\n",
    "```\n",
    "\n",
    "And checkout:\n",
    "\n",
    "http://localhost:8000/main.php?project=workshop2021"
   ]
  }
 ],
 "metadata": {
  "kernelspec": {
   "display_name": "Python 3",
   "language": "python",
   "name": "python3"
  },
  "language_info": {
   "codemirror_mode": {
    "name": "ipython",
    "version": 3
   },
   "file_extension": ".py",
   "mimetype": "text/x-python",
   "name": "python",
   "nbconvert_exporter": "python",
   "pygments_lexer": "ipython3",
   "version": "3.8.6"
  }
 },
 "nbformat": 4,
 "nbformat_minor": 4
}
